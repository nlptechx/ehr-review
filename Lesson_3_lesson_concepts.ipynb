{
 "cells": [
  {
   "cell_type": "markdown",
   "metadata": {},
   "source": [
    "This the code for walking through the lesson examples for your reference."
   ]
  },
  {
   "cell_type": "markdown",
   "metadata": {},
   "source": [
    "## Code for Building Synthetic Dataset"
   ]
  },
  {
   "cell_type": "code",
   "execution_count": 57,
   "metadata": {},
   "outputs": [],
   "source": [
    "import pandas as pd\n",
    "import numpy as np"
   ]
  },
  {
   "cell_type": "code",
   "execution_count": 58,
   "metadata": {},
   "outputs": [],
   "source": [
    "#build synthetic line level example\n",
    "NUMBER_RECORDS = 100000\n",
    "NUMBER_ENCOUNTERS = 7800\n",
    "NUMBER_PATIENTS = 1000"
   ]
  },
  {
   "cell_type": "code",
   "execution_count": 59,
   "metadata": {},
   "outputs": [],
   "source": [
    "dx_code_list = [\"dx_code_\" + str(x) for x in np.arange(1,100000)]"
   ]
  },
  {
   "cell_type": "code",
   "execution_count": 60,
   "metadata": {},
   "outputs": [],
   "source": [
    "#print(dx_code_list)"
   ]
  },
  {
   "cell_type": "code",
   "execution_count": 61,
   "metadata": {},
   "outputs": [],
   "source": [
    "procedure_code_list =[\"procedure_code_\" + str(x) for x in np.arange(0,73000)]"
   ]
  },
  {
   "cell_type": "code",
   "execution_count": 62,
   "metadata": {},
   "outputs": [],
   "source": [
    "#print(procedure_code_list)"
   ]
  },
  {
   "cell_type": "code",
   "execution_count": 63,
   "metadata": {},
   "outputs": [],
   "source": [
    "# Create random list of code sets for diagnosis, procedure, medication, and lab codes\n",
    "dx_code_list = [\"dx_code_\" + str(x) for x in np.arange(1,100000)]\n",
    "procedure_code_list =[\"procedure_code_\" + str(x) for x in np.arange(0,73000)]\n",
    "medication_code_list = [\"medication_code_\" + str(x) for x in np.arange(0,10000)]\n",
    "lab_code_list = [\"lab_code_\" + str(x) for x in np.arange(0,10000)]"
   ]
  },
  {
   "cell_type": "code",
   "execution_count": 64,
   "metadata": {},
   "outputs": [],
   "source": [
    "patient_id_list = [\"udacity_health_patient_id_\" + str(x) for x in np.arange(1, NUMBER_PATIENTS +1)]\n",
    "encounter_id_list = [\"udacity_health_encounter_id_\" + str(x) for x in np.arange(1, NUMBER_ENCOUNTERS +1)]"
   ]
  },
  {
   "cell_type": "code",
   "execution_count": 65,
   "metadata": {},
   "outputs": [
    {
     "data": {
      "text/plain": [
       "array([[0.2262601 , 0.37463069, 0.36510079, 0.03400843],\n",
       "       [0.06232512, 0.24166103, 0.28239623, 0.41361762]])"
      ]
     },
     "execution_count": 65,
     "metadata": {},
     "output_type": "execute_result"
    }
   ],
   "source": [
    "np.random.dirichlet((1,1,1,1), 2)"
   ]
  },
  {
   "cell_type": "code",
   "execution_count": 66,
   "metadata": {},
   "outputs": [],
   "source": [
    "def random_value_selection(field_value_list, number_records): #-----Define a function\n",
    "    #build normal probability distribution \n",
    "    field_prob_dist = np.random.dirichlet(np.ones(len(field_value_list)), size=1)[0] \n",
    "    #build random value list for field\n",
    "    field_random_values = np.random.choice(field_value_list, number_records, p=field_prob_dist)\n",
    "    return field_random_values"
   ]
  },
  {
   "cell_type": "code",
   "execution_count": 67,
   "metadata": {},
   "outputs": [],
   "source": [
    "#patient_values = random_value_selection(patient_id_list, NUMBER_RECORDS)\n",
    "encounter_values = random_value_selection(encounter_id_list, NUMBER_RECORDS)"
   ]
  },
  {
   "cell_type": "code",
   "execution_count": 68,
   "metadata": {},
   "outputs": [
    {
     "data": {
      "text/plain": [
       "100000"
      ]
     },
     "execution_count": 68,
     "metadata": {},
     "output_type": "execute_result"
    }
   ],
   "source": [
    "len(encounter_values)"
   ]
  },
  {
   "cell_type": "code",
   "execution_count": 69,
   "metadata": {},
   "outputs": [],
   "source": [
    "encounter_patient_mapping = dict(zip(encounter_id_list,   random_value_selection(patient_id_list, NUMBER_ENCOUNTERS)))"
   ]
  },
  {
   "cell_type": "code",
   "execution_count": 70,
   "metadata": {},
   "outputs": [],
   "source": [
    "#encounter_patient_mapping"
   ]
  },
  {
   "cell_type": "code",
   "execution_count": 71,
   "metadata": {},
   "outputs": [
    {
     "data": {
      "text/plain": [
       "7800"
      ]
     },
     "execution_count": 71,
     "metadata": {},
     "output_type": "execute_result"
    }
   ],
   "source": [
    "len(encounter_patient_mapping)"
   ]
  },
  {
   "cell_type": "code",
   "execution_count": 72,
   "metadata": {},
   "outputs": [],
   "source": [
    "encounter_patient_mapping = dict(zip(encounter_id_list,   random_value_selection(patient_id_list, NUMBER_ENCOUNTERS)))\n",
    "patient_values = [encounter_patient_mapping[x] for x in encounter_values]"
   ]
  },
  {
   "cell_type": "code",
   "execution_count": 73,
   "metadata": {},
   "outputs": [],
   "source": [
    "dx_value_mapping = dict(zip(encounter_id_list, random_value_selection(dx_code_list, NUMBER_ENCOUNTERS) ))\n",
    "dx_values = [dx_value_mapping[x] for x in encounter_values ]"
   ]
  },
  {
   "cell_type": "code",
   "execution_count": 74,
   "metadata": {},
   "outputs": [],
   "source": [
    "procedure_values = random_value_selection(procedure_code_list, NUMBER_RECORDS)\n",
    "medication_values = random_value_selection(medication_code_list, NUMBER_RECORDS)\n",
    "lab_values = random_value_selection(lab_code_list, NUMBER_RECORDS)"
   ]
  },
  {
   "cell_type": "code",
   "execution_count": 75,
   "metadata": {},
   "outputs": [],
   "source": [
    "triplet_prob_choice = np.random.choice([0, 1, 2], NUMBER_RECORDS, p= np.random.dirichlet(np.ones(3), size=1)[0] )\n",
    "line_triplet_values = list(zip(procedure_values, medication_values, lab_values, triplet_prob_choice))\n",
    "selected_procedure_values = [x[0] if x[3] == 0 else np.nan for x in line_triplet_values ]\n",
    "selected_medication_values = [x[1] if x[3] == 1 else np.nan for x in line_triplet_values]\n",
    "selected_lab_values = [x[2] if x[3] == 2 else np.nan for x in line_triplet_values]"
   ]
  },
  {
   "cell_type": "code",
   "execution_count": 76,
   "metadata": {},
   "outputs": [],
   "source": [
    "#add label\n",
    "patient_label_mapping = dict(zip( patient_id_list, np.random.choice([0, 1], NUMBER_PATIENTS, replace=True, \n",
    "                                                                    p=[0.88, 0.12]) ))\n",
    "label_values = [patient_label_mapping[x] for x in patient_values]"
   ]
  },
  {
   "cell_type": "code",
   "execution_count": 77,
   "metadata": {},
   "outputs": [],
   "source": [
    "line_df = pd.DataFrame({ \"ENCOUNTER_ID\": encounter_values,\n",
    "                        \"PATIENT_ID\": patient_values,\n",
    "                        \"PRINCIPAL_DIAGNOSIS_CODE\": dx_values,\n",
    "                        \"PROCEDURE_CODE\": selected_procedure_values,\n",
    "                        \"MEDICATION_CODE\": selected_medication_values,\n",
    "                        \"LAB_CODE\": selected_lab_values,\n",
    "                        \"LABEL\": label_values\n",
    "                       })"
   ]
  },
  {
   "cell_type": "code",
   "execution_count": 78,
   "metadata": {},
   "outputs": [
    {
     "data": {
      "text/html": [
       "<div>\n",
       "<style scoped>\n",
       "    .dataframe tbody tr th:only-of-type {\n",
       "        vertical-align: middle;\n",
       "    }\n",
       "\n",
       "    .dataframe tbody tr th {\n",
       "        vertical-align: top;\n",
       "    }\n",
       "\n",
       "    .dataframe thead th {\n",
       "        text-align: right;\n",
       "    }\n",
       "</style>\n",
       "<table border=\"1\" class=\"dataframe\">\n",
       "  <thead>\n",
       "    <tr style=\"text-align: right;\">\n",
       "      <th></th>\n",
       "      <th>ENCOUNTER_ID</th>\n",
       "      <th>PATIENT_ID</th>\n",
       "      <th>PRINCIPAL_DIAGNOSIS_CODE</th>\n",
       "      <th>PROCEDURE_CODE</th>\n",
       "      <th>MEDICATION_CODE</th>\n",
       "      <th>LAB_CODE</th>\n",
       "      <th>LABEL</th>\n",
       "    </tr>\n",
       "  </thead>\n",
       "  <tbody>\n",
       "    <tr>\n",
       "      <th>0</th>\n",
       "      <td>udacity_health_encounter_id_640</td>\n",
       "      <td>udacity_health_patient_id_530</td>\n",
       "      <td>dx_code_48194</td>\n",
       "      <td>NaN</td>\n",
       "      <td>medication_code_7186</td>\n",
       "      <td>NaN</td>\n",
       "      <td>0</td>\n",
       "    </tr>\n",
       "    <tr>\n",
       "      <th>1</th>\n",
       "      <td>udacity_health_encounter_id_6124</td>\n",
       "      <td>udacity_health_patient_id_600</td>\n",
       "      <td>dx_code_59221</td>\n",
       "      <td>procedure_code_5164</td>\n",
       "      <td>NaN</td>\n",
       "      <td>NaN</td>\n",
       "      <td>1</td>\n",
       "    </tr>\n",
       "    <tr>\n",
       "      <th>2</th>\n",
       "      <td>udacity_health_encounter_id_221</td>\n",
       "      <td>udacity_health_patient_id_754</td>\n",
       "      <td>dx_code_90138</td>\n",
       "      <td>NaN</td>\n",
       "      <td>medication_code_3993</td>\n",
       "      <td>NaN</td>\n",
       "      <td>0</td>\n",
       "    </tr>\n",
       "    <tr>\n",
       "      <th>3</th>\n",
       "      <td>udacity_health_encounter_id_2889</td>\n",
       "      <td>udacity_health_patient_id_10</td>\n",
       "      <td>dx_code_73652</td>\n",
       "      <td>procedure_code_27037</td>\n",
       "      <td>NaN</td>\n",
       "      <td>NaN</td>\n",
       "      <td>1</td>\n",
       "    </tr>\n",
       "    <tr>\n",
       "      <th>4</th>\n",
       "      <td>udacity_health_encounter_id_5845</td>\n",
       "      <td>udacity_health_patient_id_900</td>\n",
       "      <td>dx_code_50219</td>\n",
       "      <td>procedure_code_55964</td>\n",
       "      <td>NaN</td>\n",
       "      <td>NaN</td>\n",
       "      <td>0</td>\n",
       "    </tr>\n",
       "    <tr>\n",
       "      <th>...</th>\n",
       "      <td>...</td>\n",
       "      <td>...</td>\n",
       "      <td>...</td>\n",
       "      <td>...</td>\n",
       "      <td>...</td>\n",
       "      <td>...</td>\n",
       "      <td>...</td>\n",
       "    </tr>\n",
       "    <tr>\n",
       "      <th>99995</th>\n",
       "      <td>udacity_health_encounter_id_7494</td>\n",
       "      <td>udacity_health_patient_id_343</td>\n",
       "      <td>dx_code_43123</td>\n",
       "      <td>NaN</td>\n",
       "      <td>medication_code_5796</td>\n",
       "      <td>NaN</td>\n",
       "      <td>0</td>\n",
       "    </tr>\n",
       "    <tr>\n",
       "      <th>99996</th>\n",
       "      <td>udacity_health_encounter_id_2774</td>\n",
       "      <td>udacity_health_patient_id_377</td>\n",
       "      <td>dx_code_48559</td>\n",
       "      <td>NaN</td>\n",
       "      <td>medication_code_1773</td>\n",
       "      <td>NaN</td>\n",
       "      <td>0</td>\n",
       "    </tr>\n",
       "    <tr>\n",
       "      <th>99997</th>\n",
       "      <td>udacity_health_encounter_id_2461</td>\n",
       "      <td>udacity_health_patient_id_145</td>\n",
       "      <td>dx_code_48000</td>\n",
       "      <td>NaN</td>\n",
       "      <td>medication_code_7342</td>\n",
       "      <td>NaN</td>\n",
       "      <td>0</td>\n",
       "    </tr>\n",
       "    <tr>\n",
       "      <th>99998</th>\n",
       "      <td>udacity_health_encounter_id_7449</td>\n",
       "      <td>udacity_health_patient_id_855</td>\n",
       "      <td>dx_code_99654</td>\n",
       "      <td>NaN</td>\n",
       "      <td>medication_code_1276</td>\n",
       "      <td>NaN</td>\n",
       "      <td>0</td>\n",
       "    </tr>\n",
       "    <tr>\n",
       "      <th>99999</th>\n",
       "      <td>udacity_health_encounter_id_5554</td>\n",
       "      <td>udacity_health_patient_id_804</td>\n",
       "      <td>dx_code_48940</td>\n",
       "      <td>NaN</td>\n",
       "      <td>medication_code_553</td>\n",
       "      <td>NaN</td>\n",
       "      <td>0</td>\n",
       "    </tr>\n",
       "  </tbody>\n",
       "</table>\n",
       "<p>100000 rows × 7 columns</p>\n",
       "</div>"
      ],
      "text/plain": [
       "                           ENCOUNTER_ID                     PATIENT_ID  \\\n",
       "0       udacity_health_encounter_id_640  udacity_health_patient_id_530   \n",
       "1      udacity_health_encounter_id_6124  udacity_health_patient_id_600   \n",
       "2       udacity_health_encounter_id_221  udacity_health_patient_id_754   \n",
       "3      udacity_health_encounter_id_2889   udacity_health_patient_id_10   \n",
       "4      udacity_health_encounter_id_5845  udacity_health_patient_id_900   \n",
       "...                                 ...                            ...   \n",
       "99995  udacity_health_encounter_id_7494  udacity_health_patient_id_343   \n",
       "99996  udacity_health_encounter_id_2774  udacity_health_patient_id_377   \n",
       "99997  udacity_health_encounter_id_2461  udacity_health_patient_id_145   \n",
       "99998  udacity_health_encounter_id_7449  udacity_health_patient_id_855   \n",
       "99999  udacity_health_encounter_id_5554  udacity_health_patient_id_804   \n",
       "\n",
       "      PRINCIPAL_DIAGNOSIS_CODE        PROCEDURE_CODE       MEDICATION_CODE  \\\n",
       "0                dx_code_48194                   NaN  medication_code_7186   \n",
       "1                dx_code_59221   procedure_code_5164                   NaN   \n",
       "2                dx_code_90138                   NaN  medication_code_3993   \n",
       "3                dx_code_73652  procedure_code_27037                   NaN   \n",
       "4                dx_code_50219  procedure_code_55964                   NaN   \n",
       "...                        ...                   ...                   ...   \n",
       "99995            dx_code_43123                   NaN  medication_code_5796   \n",
       "99996            dx_code_48559                   NaN  medication_code_1773   \n",
       "99997            dx_code_48000                   NaN  medication_code_7342   \n",
       "99998            dx_code_99654                   NaN  medication_code_1276   \n",
       "99999            dx_code_48940                   NaN   medication_code_553   \n",
       "\n",
       "      LAB_CODE  LABEL  \n",
       "0          NaN      0  \n",
       "1          NaN      1  \n",
       "2          NaN      0  \n",
       "3          NaN      1  \n",
       "4          NaN      0  \n",
       "...        ...    ...  \n",
       "99995      NaN      0  \n",
       "99996      NaN      0  \n",
       "99997      NaN      0  \n",
       "99998      NaN      0  \n",
       "99999      NaN      0  \n",
       "\n",
       "[100000 rows x 7 columns]"
      ]
     },
     "execution_count": 78,
     "metadata": {},
     "output_type": "execute_result"
    }
   ],
   "source": [
    "line_df"
   ]
  },
  {
   "cell_type": "code",
   "execution_count": 79,
   "metadata": {},
   "outputs": [],
   "source": [
    "#line_df.to_csv(\"./data/SYNTHETIC_EHR_DATASET.csv\", index=False)"
   ]
  },
  {
   "cell_type": "markdown",
   "metadata": {},
   "source": [
    "## 1. Converting Line to Encounter Representation"
   ]
  },
  {
   "cell_type": "markdown",
   "metadata": {},
   "source": [
    "### Load Synthetic EHR Line Dataset"
   ]
  },
  {
   "cell_type": "code",
   "execution_count": 80,
   "metadata": {},
   "outputs": [],
   "source": [
    "ehr_line_df = pd.read_csv(\"./data/SYNTHETIC_EHR_DATASET.csv\")"
   ]
  },
  {
   "cell_type": "code",
   "execution_count": 81,
   "metadata": {},
   "outputs": [
    {
     "data": {
      "text/html": [
       "<div>\n",
       "<style scoped>\n",
       "    .dataframe tbody tr th:only-of-type {\n",
       "        vertical-align: middle;\n",
       "    }\n",
       "\n",
       "    .dataframe tbody tr th {\n",
       "        vertical-align: top;\n",
       "    }\n",
       "\n",
       "    .dataframe thead th {\n",
       "        text-align: right;\n",
       "    }\n",
       "</style>\n",
       "<table border=\"1\" class=\"dataframe\">\n",
       "  <thead>\n",
       "    <tr style=\"text-align: right;\">\n",
       "      <th></th>\n",
       "      <th>ENCOUNTER_ID</th>\n",
       "      <th>PATIENT_ID</th>\n",
       "      <th>PRINCIPAL_DIAGNOSIS_CODE</th>\n",
       "      <th>PROCEDURE_CODE</th>\n",
       "      <th>MEDICATION_CODE</th>\n",
       "      <th>LAB_CODE</th>\n",
       "      <th>LABEL</th>\n",
       "    </tr>\n",
       "  </thead>\n",
       "  <tbody>\n",
       "    <tr>\n",
       "      <th>0</th>\n",
       "      <td>udacity_health_encounter_id_1933</td>\n",
       "      <td>udacity_health_patient_id_817</td>\n",
       "      <td>dx_code_56522</td>\n",
       "      <td>procedure_code_20005</td>\n",
       "      <td>NaN</td>\n",
       "      <td>NaN</td>\n",
       "      <td>0</td>\n",
       "    </tr>\n",
       "    <tr>\n",
       "      <th>1</th>\n",
       "      <td>udacity_health_encounter_id_5664</td>\n",
       "      <td>udacity_health_patient_id_594</td>\n",
       "      <td>dx_code_39264</td>\n",
       "      <td>NaN</td>\n",
       "      <td>medication_code_7471</td>\n",
       "      <td>NaN</td>\n",
       "      <td>0</td>\n",
       "    </tr>\n",
       "    <tr>\n",
       "      <th>2</th>\n",
       "      <td>udacity_health_encounter_id_1946</td>\n",
       "      <td>udacity_health_patient_id_169</td>\n",
       "      <td>dx_code_83619</td>\n",
       "      <td>NaN</td>\n",
       "      <td>NaN</td>\n",
       "      <td>lab_code_5311</td>\n",
       "      <td>0</td>\n",
       "    </tr>\n",
       "    <tr>\n",
       "      <th>3</th>\n",
       "      <td>udacity_health_encounter_id_1528</td>\n",
       "      <td>udacity_health_patient_id_870</td>\n",
       "      <td>dx_code_97434</td>\n",
       "      <td>procedure_code_31111</td>\n",
       "      <td>NaN</td>\n",
       "      <td>NaN</td>\n",
       "      <td>0</td>\n",
       "    </tr>\n",
       "    <tr>\n",
       "      <th>4</th>\n",
       "      <td>udacity_health_encounter_id_7185</td>\n",
       "      <td>udacity_health_patient_id_722</td>\n",
       "      <td>dx_code_68924</td>\n",
       "      <td>NaN</td>\n",
       "      <td>medication_code_2250</td>\n",
       "      <td>NaN</td>\n",
       "      <td>0</td>\n",
       "    </tr>\n",
       "  </tbody>\n",
       "</table>\n",
       "</div>"
      ],
      "text/plain": [
       "                       ENCOUNTER_ID                     PATIENT_ID  \\\n",
       "0  udacity_health_encounter_id_1933  udacity_health_patient_id_817   \n",
       "1  udacity_health_encounter_id_5664  udacity_health_patient_id_594   \n",
       "2  udacity_health_encounter_id_1946  udacity_health_patient_id_169   \n",
       "3  udacity_health_encounter_id_1528  udacity_health_patient_id_870   \n",
       "4  udacity_health_encounter_id_7185  udacity_health_patient_id_722   \n",
       "\n",
       "  PRINCIPAL_DIAGNOSIS_CODE        PROCEDURE_CODE       MEDICATION_CODE  \\\n",
       "0            dx_code_56522  procedure_code_20005                   NaN   \n",
       "1            dx_code_39264                   NaN  medication_code_7471   \n",
       "2            dx_code_83619                   NaN                   NaN   \n",
       "3            dx_code_97434  procedure_code_31111                   NaN   \n",
       "4            dx_code_68924                   NaN  medication_code_2250   \n",
       "\n",
       "        LAB_CODE  LABEL  \n",
       "0            NaN      0  \n",
       "1            NaN      0  \n",
       "2  lab_code_5311      0  \n",
       "3            NaN      0  \n",
       "4            NaN      0  "
      ]
     },
     "execution_count": 81,
     "metadata": {},
     "output_type": "execute_result"
    }
   ],
   "source": [
    "ehr_line_df.head()"
   ]
  },
  {
   "cell_type": "code",
   "execution_count": 82,
   "metadata": {},
   "outputs": [
    {
     "data": {
      "text/html": [
       "<div>\n",
       "<style scoped>\n",
       "    .dataframe tbody tr th:only-of-type {\n",
       "        vertical-align: middle;\n",
       "    }\n",
       "\n",
       "    .dataframe tbody tr th {\n",
       "        vertical-align: top;\n",
       "    }\n",
       "\n",
       "    .dataframe thead th {\n",
       "        text-align: right;\n",
       "    }\n",
       "</style>\n",
       "<table border=\"1\" class=\"dataframe\">\n",
       "  <thead>\n",
       "    <tr style=\"text-align: right;\">\n",
       "      <th></th>\n",
       "      <th>ENCOUNTER_ID</th>\n",
       "      <th>PATIENT_ID</th>\n",
       "      <th>PRINCIPAL_DIAGNOSIS_CODE</th>\n",
       "      <th>PROCEDURE_CODE</th>\n",
       "      <th>MEDICATION_CODE</th>\n",
       "      <th>LAB_CODE</th>\n",
       "      <th>LABEL</th>\n",
       "    </tr>\n",
       "  </thead>\n",
       "  <tbody>\n",
       "    <tr>\n",
       "      <th>99995</th>\n",
       "      <td>udacity_health_encounter_id_7533</td>\n",
       "      <td>udacity_health_patient_id_191</td>\n",
       "      <td>dx_code_92422</td>\n",
       "      <td>NaN</td>\n",
       "      <td>medication_code_5271</td>\n",
       "      <td>NaN</td>\n",
       "      <td>0</td>\n",
       "    </tr>\n",
       "    <tr>\n",
       "      <th>99996</th>\n",
       "      <td>udacity_health_encounter_id_5449</td>\n",
       "      <td>udacity_health_patient_id_651</td>\n",
       "      <td>dx_code_79555</td>\n",
       "      <td>NaN</td>\n",
       "      <td>NaN</td>\n",
       "      <td>lab_code_9190</td>\n",
       "      <td>0</td>\n",
       "    </tr>\n",
       "    <tr>\n",
       "      <th>99997</th>\n",
       "      <td>udacity_health_encounter_id_3397</td>\n",
       "      <td>udacity_health_patient_id_1000</td>\n",
       "      <td>dx_code_69775</td>\n",
       "      <td>procedure_code_30143</td>\n",
       "      <td>NaN</td>\n",
       "      <td>NaN</td>\n",
       "      <td>1</td>\n",
       "    </tr>\n",
       "    <tr>\n",
       "      <th>99998</th>\n",
       "      <td>udacity_health_encounter_id_2442</td>\n",
       "      <td>udacity_health_patient_id_898</td>\n",
       "      <td>dx_code_61239</td>\n",
       "      <td>NaN</td>\n",
       "      <td>medication_code_129</td>\n",
       "      <td>NaN</td>\n",
       "      <td>0</td>\n",
       "    </tr>\n",
       "    <tr>\n",
       "      <th>99999</th>\n",
       "      <td>udacity_health_encounter_id_5602</td>\n",
       "      <td>udacity_health_patient_id_80</td>\n",
       "      <td>dx_code_45899</td>\n",
       "      <td>NaN</td>\n",
       "      <td>NaN</td>\n",
       "      <td>lab_code_9818</td>\n",
       "      <td>1</td>\n",
       "    </tr>\n",
       "  </tbody>\n",
       "</table>\n",
       "</div>"
      ],
      "text/plain": [
       "                           ENCOUNTER_ID                      PATIENT_ID  \\\n",
       "99995  udacity_health_encounter_id_7533   udacity_health_patient_id_191   \n",
       "99996  udacity_health_encounter_id_5449   udacity_health_patient_id_651   \n",
       "99997  udacity_health_encounter_id_3397  udacity_health_patient_id_1000   \n",
       "99998  udacity_health_encounter_id_2442   udacity_health_patient_id_898   \n",
       "99999  udacity_health_encounter_id_5602    udacity_health_patient_id_80   \n",
       "\n",
       "      PRINCIPAL_DIAGNOSIS_CODE        PROCEDURE_CODE       MEDICATION_CODE  \\\n",
       "99995            dx_code_92422                   NaN  medication_code_5271   \n",
       "99996            dx_code_79555                   NaN                   NaN   \n",
       "99997            dx_code_69775  procedure_code_30143                   NaN   \n",
       "99998            dx_code_61239                   NaN   medication_code_129   \n",
       "99999            dx_code_45899                   NaN                   NaN   \n",
       "\n",
       "            LAB_CODE  LABEL  \n",
       "99995            NaN      0  \n",
       "99996  lab_code_9190      0  \n",
       "99997            NaN      1  \n",
       "99998            NaN      0  \n",
       "99999  lab_code_9818      1  "
      ]
     },
     "execution_count": 82,
     "metadata": {},
     "output_type": "execute_result"
    }
   ],
   "source": [
    "ehr_line_df.tail()"
   ]
  },
  {
   "cell_type": "code",
   "execution_count": 83,
   "metadata": {},
   "outputs": [
    {
     "data": {
      "text/html": [
       "<div>\n",
       "<style scoped>\n",
       "    .dataframe tbody tr th:only-of-type {\n",
       "        vertical-align: middle;\n",
       "    }\n",
       "\n",
       "    .dataframe tbody tr th {\n",
       "        vertical-align: top;\n",
       "    }\n",
       "\n",
       "    .dataframe thead th {\n",
       "        text-align: right;\n",
       "    }\n",
       "</style>\n",
       "<table border=\"1\" class=\"dataframe\">\n",
       "  <thead>\n",
       "    <tr style=\"text-align: right;\">\n",
       "      <th></th>\n",
       "      <th>ENCOUNTER_ID</th>\n",
       "      <th>PATIENT_ID</th>\n",
       "      <th>PRINCIPAL_DIAGNOSIS_CODE</th>\n",
       "      <th>PROCEDURE_CODE</th>\n",
       "      <th>MEDICATION_CODE</th>\n",
       "      <th>LAB_CODE</th>\n",
       "      <th>LABEL</th>\n",
       "    </tr>\n",
       "  </thead>\n",
       "  <tbody>\n",
       "    <tr>\n",
       "      <th>14286</th>\n",
       "      <td>udacity_health_encounter_id_100</td>\n",
       "      <td>udacity_health_patient_id_585</td>\n",
       "      <td>dx_code_71465</td>\n",
       "      <td>NaN</td>\n",
       "      <td>NaN</td>\n",
       "      <td>lab_code_4198</td>\n",
       "      <td>0</td>\n",
       "    </tr>\n",
       "    <tr>\n",
       "      <th>19091</th>\n",
       "      <td>udacity_health_encounter_id_100</td>\n",
       "      <td>udacity_health_patient_id_585</td>\n",
       "      <td>dx_code_71465</td>\n",
       "      <td>NaN</td>\n",
       "      <td>medication_code_7982</td>\n",
       "      <td>NaN</td>\n",
       "      <td>0</td>\n",
       "    </tr>\n",
       "    <tr>\n",
       "      <th>29530</th>\n",
       "      <td>udacity_health_encounter_id_100</td>\n",
       "      <td>udacity_health_patient_id_585</td>\n",
       "      <td>dx_code_71465</td>\n",
       "      <td>NaN</td>\n",
       "      <td>NaN</td>\n",
       "      <td>lab_code_6603</td>\n",
       "      <td>0</td>\n",
       "    </tr>\n",
       "    <tr>\n",
       "      <th>34583</th>\n",
       "      <td>udacity_health_encounter_id_100</td>\n",
       "      <td>udacity_health_patient_id_585</td>\n",
       "      <td>dx_code_71465</td>\n",
       "      <td>NaN</td>\n",
       "      <td>NaN</td>\n",
       "      <td>lab_code_332</td>\n",
       "      <td>0</td>\n",
       "    </tr>\n",
       "    <tr>\n",
       "      <th>62325</th>\n",
       "      <td>udacity_health_encounter_id_100</td>\n",
       "      <td>udacity_health_patient_id_585</td>\n",
       "      <td>dx_code_71465</td>\n",
       "      <td>NaN</td>\n",
       "      <td>medication_code_2452</td>\n",
       "      <td>NaN</td>\n",
       "      <td>0</td>\n",
       "    </tr>\n",
       "    <tr>\n",
       "      <th>64967</th>\n",
       "      <td>udacity_health_encounter_id_100</td>\n",
       "      <td>udacity_health_patient_id_585</td>\n",
       "      <td>dx_code_71465</td>\n",
       "      <td>NaN</td>\n",
       "      <td>NaN</td>\n",
       "      <td>lab_code_1431</td>\n",
       "      <td>0</td>\n",
       "    </tr>\n",
       "    <tr>\n",
       "      <th>94636</th>\n",
       "      <td>udacity_health_encounter_id_100</td>\n",
       "      <td>udacity_health_patient_id_585</td>\n",
       "      <td>dx_code_71465</td>\n",
       "      <td>NaN</td>\n",
       "      <td>medication_code_279</td>\n",
       "      <td>NaN</td>\n",
       "      <td>0</td>\n",
       "    </tr>\n",
       "  </tbody>\n",
       "</table>\n",
       "</div>"
      ],
      "text/plain": [
       "                          ENCOUNTER_ID                     PATIENT_ID  \\\n",
       "14286  udacity_health_encounter_id_100  udacity_health_patient_id_585   \n",
       "19091  udacity_health_encounter_id_100  udacity_health_patient_id_585   \n",
       "29530  udacity_health_encounter_id_100  udacity_health_patient_id_585   \n",
       "34583  udacity_health_encounter_id_100  udacity_health_patient_id_585   \n",
       "62325  udacity_health_encounter_id_100  udacity_health_patient_id_585   \n",
       "64967  udacity_health_encounter_id_100  udacity_health_patient_id_585   \n",
       "94636  udacity_health_encounter_id_100  udacity_health_patient_id_585   \n",
       "\n",
       "      PRINCIPAL_DIAGNOSIS_CODE PROCEDURE_CODE       MEDICATION_CODE  \\\n",
       "14286            dx_code_71465            NaN                   NaN   \n",
       "19091            dx_code_71465            NaN  medication_code_7982   \n",
       "29530            dx_code_71465            NaN                   NaN   \n",
       "34583            dx_code_71465            NaN                   NaN   \n",
       "62325            dx_code_71465            NaN  medication_code_2452   \n",
       "64967            dx_code_71465            NaN                   NaN   \n",
       "94636            dx_code_71465            NaN   medication_code_279   \n",
       "\n",
       "            LAB_CODE  LABEL  \n",
       "14286  lab_code_4198      0  \n",
       "19091            NaN      0  \n",
       "29530  lab_code_6603      0  \n",
       "34583   lab_code_332      0  \n",
       "62325            NaN      0  \n",
       "64967  lab_code_1431      0  \n",
       "94636            NaN      0  "
      ]
     },
     "execution_count": 83,
     "metadata": {},
     "output_type": "execute_result"
    }
   ],
   "source": [
    "ehr_line_df[ehr_line_df['ENCOUNTER_ID']=='udacity_health_encounter_id_100']"
   ]
  },
  {
   "cell_type": "code",
   "execution_count": 84,
   "metadata": {},
   "outputs": [
    {
     "data": {
      "text/html": [
       "<div>\n",
       "<style scoped>\n",
       "    .dataframe tbody tr th:only-of-type {\n",
       "        vertical-align: middle;\n",
       "    }\n",
       "\n",
       "    .dataframe tbody tr th {\n",
       "        vertical-align: top;\n",
       "    }\n",
       "\n",
       "    .dataframe thead th {\n",
       "        text-align: right;\n",
       "    }\n",
       "</style>\n",
       "<table border=\"1\" class=\"dataframe\">\n",
       "  <thead>\n",
       "    <tr style=\"text-align: right;\">\n",
       "      <th></th>\n",
       "      <th>ENCOUNTER_ID</th>\n",
       "      <th>PATIENT_ID</th>\n",
       "      <th>PRINCIPAL_DIAGNOSIS_CODE</th>\n",
       "      <th>PROCEDURE_CODE</th>\n",
       "      <th>MEDICATION_CODE</th>\n",
       "      <th>LAB_CODE</th>\n",
       "      <th>LABEL</th>\n",
       "    </tr>\n",
       "  </thead>\n",
       "  <tbody>\n",
       "    <tr>\n",
       "      <th>161</th>\n",
       "      <td>udacity_health_encounter_id_983</td>\n",
       "      <td>udacity_health_patient_id_585</td>\n",
       "      <td>dx_code_27700</td>\n",
       "      <td>NaN</td>\n",
       "      <td>medication_code_5201</td>\n",
       "      <td>NaN</td>\n",
       "      <td>0</td>\n",
       "    </tr>\n",
       "    <tr>\n",
       "      <th>184</th>\n",
       "      <td>udacity_health_encounter_id_7155</td>\n",
       "      <td>udacity_health_patient_id_585</td>\n",
       "      <td>dx_code_75500</td>\n",
       "      <td>NaN</td>\n",
       "      <td>medication_code_6633</td>\n",
       "      <td>NaN</td>\n",
       "      <td>0</td>\n",
       "    </tr>\n",
       "    <tr>\n",
       "      <th>841</th>\n",
       "      <td>udacity_health_encounter_id_7155</td>\n",
       "      <td>udacity_health_patient_id_585</td>\n",
       "      <td>dx_code_75500</td>\n",
       "      <td>procedure_code_31792</td>\n",
       "      <td>NaN</td>\n",
       "      <td>NaN</td>\n",
       "      <td>0</td>\n",
       "    </tr>\n",
       "    <tr>\n",
       "      <th>1565</th>\n",
       "      <td>udacity_health_encounter_id_983</td>\n",
       "      <td>udacity_health_patient_id_585</td>\n",
       "      <td>dx_code_27700</td>\n",
       "      <td>NaN</td>\n",
       "      <td>medication_code_6972</td>\n",
       "      <td>NaN</td>\n",
       "      <td>0</td>\n",
       "    </tr>\n",
       "    <tr>\n",
       "      <th>2141</th>\n",
       "      <td>udacity_health_encounter_id_7155</td>\n",
       "      <td>udacity_health_patient_id_585</td>\n",
       "      <td>dx_code_75500</td>\n",
       "      <td>NaN</td>\n",
       "      <td>medication_code_5212</td>\n",
       "      <td>NaN</td>\n",
       "      <td>0</td>\n",
       "    </tr>\n",
       "    <tr>\n",
       "      <th>...</th>\n",
       "      <td>...</td>\n",
       "      <td>...</td>\n",
       "      <td>...</td>\n",
       "      <td>...</td>\n",
       "      <td>...</td>\n",
       "      <td>...</td>\n",
       "      <td>...</td>\n",
       "    </tr>\n",
       "    <tr>\n",
       "      <th>94636</th>\n",
       "      <td>udacity_health_encounter_id_100</td>\n",
       "      <td>udacity_health_patient_id_585</td>\n",
       "      <td>dx_code_71465</td>\n",
       "      <td>NaN</td>\n",
       "      <td>medication_code_279</td>\n",
       "      <td>NaN</td>\n",
       "      <td>0</td>\n",
       "    </tr>\n",
       "    <tr>\n",
       "      <th>96140</th>\n",
       "      <td>udacity_health_encounter_id_1970</td>\n",
       "      <td>udacity_health_patient_id_585</td>\n",
       "      <td>dx_code_75302</td>\n",
       "      <td>NaN</td>\n",
       "      <td>medication_code_8919</td>\n",
       "      <td>NaN</td>\n",
       "      <td>0</td>\n",
       "    </tr>\n",
       "    <tr>\n",
       "      <th>99020</th>\n",
       "      <td>udacity_health_encounter_id_6528</td>\n",
       "      <td>udacity_health_patient_id_585</td>\n",
       "      <td>dx_code_87709</td>\n",
       "      <td>NaN</td>\n",
       "      <td>medication_code_4594</td>\n",
       "      <td>NaN</td>\n",
       "      <td>0</td>\n",
       "    </tr>\n",
       "    <tr>\n",
       "      <th>99096</th>\n",
       "      <td>udacity_health_encounter_id_7155</td>\n",
       "      <td>udacity_health_patient_id_585</td>\n",
       "      <td>dx_code_75500</td>\n",
       "      <td>procedure_code_32548</td>\n",
       "      <td>NaN</td>\n",
       "      <td>NaN</td>\n",
       "      <td>0</td>\n",
       "    </tr>\n",
       "    <tr>\n",
       "      <th>99147</th>\n",
       "      <td>udacity_health_encounter_id_7155</td>\n",
       "      <td>udacity_health_patient_id_585</td>\n",
       "      <td>dx_code_75500</td>\n",
       "      <td>procedure_code_13839</td>\n",
       "      <td>NaN</td>\n",
       "      <td>NaN</td>\n",
       "      <td>0</td>\n",
       "    </tr>\n",
       "  </tbody>\n",
       "</table>\n",
       "<p>61 rows × 7 columns</p>\n",
       "</div>"
      ],
      "text/plain": [
       "                           ENCOUNTER_ID                     PATIENT_ID  \\\n",
       "161     udacity_health_encounter_id_983  udacity_health_patient_id_585   \n",
       "184    udacity_health_encounter_id_7155  udacity_health_patient_id_585   \n",
       "841    udacity_health_encounter_id_7155  udacity_health_patient_id_585   \n",
       "1565    udacity_health_encounter_id_983  udacity_health_patient_id_585   \n",
       "2141   udacity_health_encounter_id_7155  udacity_health_patient_id_585   \n",
       "...                                 ...                            ...   \n",
       "94636   udacity_health_encounter_id_100  udacity_health_patient_id_585   \n",
       "96140  udacity_health_encounter_id_1970  udacity_health_patient_id_585   \n",
       "99020  udacity_health_encounter_id_6528  udacity_health_patient_id_585   \n",
       "99096  udacity_health_encounter_id_7155  udacity_health_patient_id_585   \n",
       "99147  udacity_health_encounter_id_7155  udacity_health_patient_id_585   \n",
       "\n",
       "      PRINCIPAL_DIAGNOSIS_CODE        PROCEDURE_CODE       MEDICATION_CODE  \\\n",
       "161              dx_code_27700                   NaN  medication_code_5201   \n",
       "184              dx_code_75500                   NaN  medication_code_6633   \n",
       "841              dx_code_75500  procedure_code_31792                   NaN   \n",
       "1565             dx_code_27700                   NaN  medication_code_6972   \n",
       "2141             dx_code_75500                   NaN  medication_code_5212   \n",
       "...                        ...                   ...                   ...   \n",
       "94636            dx_code_71465                   NaN   medication_code_279   \n",
       "96140            dx_code_75302                   NaN  medication_code_8919   \n",
       "99020            dx_code_87709                   NaN  medication_code_4594   \n",
       "99096            dx_code_75500  procedure_code_32548                   NaN   \n",
       "99147            dx_code_75500  procedure_code_13839                   NaN   \n",
       "\n",
       "      LAB_CODE  LABEL  \n",
       "161        NaN      0  \n",
       "184        NaN      0  \n",
       "841        NaN      0  \n",
       "1565       NaN      0  \n",
       "2141       NaN      0  \n",
       "...        ...    ...  \n",
       "94636      NaN      0  \n",
       "96140      NaN      0  \n",
       "99020      NaN      0  \n",
       "99096      NaN      0  \n",
       "99147      NaN      0  \n",
       "\n",
       "[61 rows x 7 columns]"
      ]
     },
     "execution_count": 84,
     "metadata": {},
     "output_type": "execute_result"
    }
   ],
   "source": [
    "ehr_line_df[ehr_line_df['PATIENT_ID']=='udacity_health_patient_id_585']"
   ]
  },
  {
   "cell_type": "code",
   "execution_count": 85,
   "metadata": {},
   "outputs": [],
   "source": [
    "#note that this is for illustrative purposes only and for practicing key skills, \n",
    "# the actual data representation and combinations of codes not indicative of real thing"
   ]
  },
  {
   "cell_type": "markdown",
   "metadata": {},
   "source": [
    "### Convert Line to Encounter Representation"
   ]
  },
  {
   "cell_type": "code",
   "execution_count": 86,
   "metadata": {},
   "outputs": [],
   "source": [
    "# grouping fields \n",
    "grouping_field_list = ['ENCOUNTER_ID', 'PATIENT_ID', 'PRINCIPAL_DIAGNOSIS_CODE']\n",
    "non_grouped_field_list = [c for c in ehr_line_df.columns if c not in grouping_field_list]"
   ]
  },
  {
   "cell_type": "code",
   "execution_count": 87,
   "metadata": {},
   "outputs": [],
   "source": [
    "encounter_df = ehr_line_df.groupby(grouping_field_list)[non_grouped_field_list].agg(lambda x: \n",
    "                                                        list([y for y in x if y is not np.nan ] ) ).reset_index()"
   ]
  },
  {
   "cell_type": "code",
   "execution_count": 88,
   "metadata": {},
   "outputs": [
    {
     "data": {
      "text/html": [
       "<div>\n",
       "<style scoped>\n",
       "    .dataframe tbody tr th:only-of-type {\n",
       "        vertical-align: middle;\n",
       "    }\n",
       "\n",
       "    .dataframe tbody tr th {\n",
       "        vertical-align: top;\n",
       "    }\n",
       "\n",
       "    .dataframe thead th {\n",
       "        text-align: right;\n",
       "    }\n",
       "</style>\n",
       "<table border=\"1\" class=\"dataframe\">\n",
       "  <thead>\n",
       "    <tr style=\"text-align: right;\">\n",
       "      <th></th>\n",
       "      <th>ENCOUNTER_ID</th>\n",
       "      <th>PATIENT_ID</th>\n",
       "      <th>PRINCIPAL_DIAGNOSIS_CODE</th>\n",
       "      <th>PROCEDURE_CODE</th>\n",
       "      <th>MEDICATION_CODE</th>\n",
       "      <th>LAB_CODE</th>\n",
       "      <th>LABEL</th>\n",
       "    </tr>\n",
       "  </thead>\n",
       "  <tbody>\n",
       "    <tr>\n",
       "      <th>0</th>\n",
       "      <td>udacity_health_encounter_id_1</td>\n",
       "      <td>udacity_health_patient_id_186</td>\n",
       "      <td>dx_code_15406</td>\n",
       "      <td>[procedure_code_58552, procedure_code_39776, p...</td>\n",
       "      <td>[medication_code_2350, medication_code_8630, m...</td>\n",
       "      <td>[lab_code_8835, lab_code_9859, lab_code_9032, ...</td>\n",
       "      <td>[0, 0, 0, 0, 0, 0, 0, 0, 0, 0, 0, 0, 0, 0, 0, ...</td>\n",
       "    </tr>\n",
       "    <tr>\n",
       "      <th>1</th>\n",
       "      <td>udacity_health_encounter_id_10</td>\n",
       "      <td>udacity_health_patient_id_188</td>\n",
       "      <td>dx_code_74047</td>\n",
       "      <td>[]</td>\n",
       "      <td>[medication_code_7789, medication_code_3560, m...</td>\n",
       "      <td>[]</td>\n",
       "      <td>[1, 1, 1, 1]</td>\n",
       "    </tr>\n",
       "    <tr>\n",
       "      <th>2</th>\n",
       "      <td>udacity_health_encounter_id_100</td>\n",
       "      <td>udacity_health_patient_id_585</td>\n",
       "      <td>dx_code_71465</td>\n",
       "      <td>[]</td>\n",
       "      <td>[medication_code_7982, medication_code_2452, m...</td>\n",
       "      <td>[lab_code_4198, lab_code_6603, lab_code_332, l...</td>\n",
       "      <td>[0, 0, 0, 0, 0, 0, 0]</td>\n",
       "    </tr>\n",
       "    <tr>\n",
       "      <th>3</th>\n",
       "      <td>udacity_health_encounter_id_1000</td>\n",
       "      <td>udacity_health_patient_id_525</td>\n",
       "      <td>dx_code_61569</td>\n",
       "      <td>[]</td>\n",
       "      <td>[medication_code_4036]</td>\n",
       "      <td>[]</td>\n",
       "      <td>[0]</td>\n",
       "    </tr>\n",
       "    <tr>\n",
       "      <th>4</th>\n",
       "      <td>udacity_health_encounter_id_1001</td>\n",
       "      <td>udacity_health_patient_id_950</td>\n",
       "      <td>dx_code_90172</td>\n",
       "      <td>[procedure_code_30555]</td>\n",
       "      <td>[medication_code_6755, medication_code_5045]</td>\n",
       "      <td>[lab_code_9112]</td>\n",
       "      <td>[0, 0, 0, 0]</td>\n",
       "    </tr>\n",
       "  </tbody>\n",
       "</table>\n",
       "</div>"
      ],
      "text/plain": [
       "                       ENCOUNTER_ID                     PATIENT_ID  \\\n",
       "0     udacity_health_encounter_id_1  udacity_health_patient_id_186   \n",
       "1    udacity_health_encounter_id_10  udacity_health_patient_id_188   \n",
       "2   udacity_health_encounter_id_100  udacity_health_patient_id_585   \n",
       "3  udacity_health_encounter_id_1000  udacity_health_patient_id_525   \n",
       "4  udacity_health_encounter_id_1001  udacity_health_patient_id_950   \n",
       "\n",
       "  PRINCIPAL_DIAGNOSIS_CODE                                     PROCEDURE_CODE  \\\n",
       "0            dx_code_15406  [procedure_code_58552, procedure_code_39776, p...   \n",
       "1            dx_code_74047                                                 []   \n",
       "2            dx_code_71465                                                 []   \n",
       "3            dx_code_61569                                                 []   \n",
       "4            dx_code_90172                             [procedure_code_30555]   \n",
       "\n",
       "                                     MEDICATION_CODE  \\\n",
       "0  [medication_code_2350, medication_code_8630, m...   \n",
       "1  [medication_code_7789, medication_code_3560, m...   \n",
       "2  [medication_code_7982, medication_code_2452, m...   \n",
       "3                             [medication_code_4036]   \n",
       "4       [medication_code_6755, medication_code_5045]   \n",
       "\n",
       "                                            LAB_CODE  \\\n",
       "0  [lab_code_8835, lab_code_9859, lab_code_9032, ...   \n",
       "1                                                 []   \n",
       "2  [lab_code_4198, lab_code_6603, lab_code_332, l...   \n",
       "3                                                 []   \n",
       "4                                    [lab_code_9112]   \n",
       "\n",
       "                                               LABEL  \n",
       "0  [0, 0, 0, 0, 0, 0, 0, 0, 0, 0, 0, 0, 0, 0, 0, ...  \n",
       "1                                       [1, 1, 1, 1]  \n",
       "2                              [0, 0, 0, 0, 0, 0, 0]  \n",
       "3                                                [0]  \n",
       "4                                       [0, 0, 0, 0]  "
      ]
     },
     "execution_count": 88,
     "metadata": {},
     "output_type": "execute_result"
    }
   ],
   "source": [
    "encounter_df.head()"
   ]
  },
  {
   "cell_type": "code",
   "execution_count": 89,
   "metadata": {},
   "outputs": [
    {
     "data": {
      "text/html": [
       "<div>\n",
       "<style scoped>\n",
       "    .dataframe tbody tr th:only-of-type {\n",
       "        vertical-align: middle;\n",
       "    }\n",
       "\n",
       "    .dataframe tbody tr th {\n",
       "        vertical-align: top;\n",
       "    }\n",
       "\n",
       "    .dataframe thead th {\n",
       "        text-align: right;\n",
       "    }\n",
       "</style>\n",
       "<table border=\"1\" class=\"dataframe\">\n",
       "  <thead>\n",
       "    <tr style=\"text-align: right;\">\n",
       "      <th></th>\n",
       "      <th>ENCOUNTER_ID</th>\n",
       "      <th>PATIENT_ID</th>\n",
       "      <th>PRINCIPAL_DIAGNOSIS_CODE</th>\n",
       "      <th>PROCEDURE_CODE</th>\n",
       "      <th>MEDICATION_CODE</th>\n",
       "      <th>LAB_CODE</th>\n",
       "      <th>LABEL</th>\n",
       "    </tr>\n",
       "  </thead>\n",
       "  <tbody>\n",
       "    <tr>\n",
       "      <th>0</th>\n",
       "      <td>udacity_health_encounter_id_1</td>\n",
       "      <td>udacity_health_patient_id_186</td>\n",
       "      <td>dx_code_15406</td>\n",
       "      <td>[procedure_code_58552, procedure_code_39776, p...</td>\n",
       "      <td>[medication_code_2350, medication_code_8630, m...</td>\n",
       "      <td>[lab_code_8835, lab_code_9859, lab_code_9032, ...</td>\n",
       "      <td>[0, 0, 0, 0, 0, 0, 0, 0, 0, 0, 0, 0, 0, 0, 0, ...</td>\n",
       "    </tr>\n",
       "    <tr>\n",
       "      <th>1</th>\n",
       "      <td>udacity_health_encounter_id_10</td>\n",
       "      <td>udacity_health_patient_id_188</td>\n",
       "      <td>dx_code_74047</td>\n",
       "      <td>[]</td>\n",
       "      <td>[medication_code_7789, medication_code_3560, m...</td>\n",
       "      <td>[]</td>\n",
       "      <td>[1, 1, 1, 1]</td>\n",
       "    </tr>\n",
       "    <tr>\n",
       "      <th>2</th>\n",
       "      <td>udacity_health_encounter_id_100</td>\n",
       "      <td>udacity_health_patient_id_585</td>\n",
       "      <td>dx_code_71465</td>\n",
       "      <td>[]</td>\n",
       "      <td>[medication_code_7982, medication_code_2452, m...</td>\n",
       "      <td>[lab_code_4198, lab_code_6603, lab_code_332, l...</td>\n",
       "      <td>[0, 0, 0, 0, 0, 0, 0]</td>\n",
       "    </tr>\n",
       "    <tr>\n",
       "      <th>3</th>\n",
       "      <td>udacity_health_encounter_id_1000</td>\n",
       "      <td>udacity_health_patient_id_525</td>\n",
       "      <td>dx_code_61569</td>\n",
       "      <td>[]</td>\n",
       "      <td>[medication_code_4036]</td>\n",
       "      <td>[]</td>\n",
       "      <td>[0]</td>\n",
       "    </tr>\n",
       "    <tr>\n",
       "      <th>4</th>\n",
       "      <td>udacity_health_encounter_id_1001</td>\n",
       "      <td>udacity_health_patient_id_950</td>\n",
       "      <td>dx_code_90172</td>\n",
       "      <td>[procedure_code_30555]</td>\n",
       "      <td>[medication_code_6755, medication_code_5045]</td>\n",
       "      <td>[lab_code_9112]</td>\n",
       "      <td>[0, 0, 0, 0]</td>\n",
       "    </tr>\n",
       "  </tbody>\n",
       "</table>\n",
       "</div>"
      ],
      "text/plain": [
       "                       ENCOUNTER_ID                     PATIENT_ID  \\\n",
       "0     udacity_health_encounter_id_1  udacity_health_patient_id_186   \n",
       "1    udacity_health_encounter_id_10  udacity_health_patient_id_188   \n",
       "2   udacity_health_encounter_id_100  udacity_health_patient_id_585   \n",
       "3  udacity_health_encounter_id_1000  udacity_health_patient_id_525   \n",
       "4  udacity_health_encounter_id_1001  udacity_health_patient_id_950   \n",
       "\n",
       "  PRINCIPAL_DIAGNOSIS_CODE                                     PROCEDURE_CODE  \\\n",
       "0            dx_code_15406  [procedure_code_58552, procedure_code_39776, p...   \n",
       "1            dx_code_74047                                                 []   \n",
       "2            dx_code_71465                                                 []   \n",
       "3            dx_code_61569                                                 []   \n",
       "4            dx_code_90172                             [procedure_code_30555]   \n",
       "\n",
       "                                     MEDICATION_CODE  \\\n",
       "0  [medication_code_2350, medication_code_8630, m...   \n",
       "1  [medication_code_7789, medication_code_3560, m...   \n",
       "2  [medication_code_7982, medication_code_2452, m...   \n",
       "3                             [medication_code_4036]   \n",
       "4       [medication_code_6755, medication_code_5045]   \n",
       "\n",
       "                                            LAB_CODE  \\\n",
       "0  [lab_code_8835, lab_code_9859, lab_code_9032, ...   \n",
       "1                                                 []   \n",
       "2  [lab_code_4198, lab_code_6603, lab_code_332, l...   \n",
       "3                                                 []   \n",
       "4                                    [lab_code_9112]   \n",
       "\n",
       "                                               LABEL  \n",
       "0  [0, 0, 0, 0, 0, 0, 0, 0, 0, 0, 0, 0, 0, 0, 0, ...  \n",
       "1                                       [1, 1, 1, 1]  \n",
       "2                              [0, 0, 0, 0, 0, 0, 0]  \n",
       "3                                                [0]  \n",
       "4                                       [0, 0, 0, 0]  "
      ]
     },
     "execution_count": 89,
     "metadata": {},
     "output_type": "execute_result"
    }
   ],
   "source": [
    "encounter_df[0:5]"
   ]
  },
  {
   "cell_type": "code",
   "execution_count": 90,
   "metadata": {},
   "outputs": [
    {
     "data": {
      "text/html": [
       "<div>\n",
       "<style scoped>\n",
       "    .dataframe tbody tr th:only-of-type {\n",
       "        vertical-align: middle;\n",
       "    }\n",
       "\n",
       "    .dataframe tbody tr th {\n",
       "        vertical-align: top;\n",
       "    }\n",
       "\n",
       "    .dataframe thead th {\n",
       "        text-align: right;\n",
       "    }\n",
       "</style>\n",
       "<table border=\"1\" class=\"dataframe\">\n",
       "  <thead>\n",
       "    <tr style=\"text-align: right;\">\n",
       "      <th></th>\n",
       "      <th>ENCOUNTER_ID</th>\n",
       "      <th>PATIENT_ID</th>\n",
       "      <th>PRINCIPAL_DIAGNOSIS_CODE</th>\n",
       "      <th>PROCEDURE_CODE</th>\n",
       "      <th>MEDICATION_CODE</th>\n",
       "      <th>LAB_CODE</th>\n",
       "      <th>LABEL</th>\n",
       "    </tr>\n",
       "  </thead>\n",
       "  <tbody>\n",
       "    <tr>\n",
       "      <th>3246</th>\n",
       "      <td>udacity_health_encounter_id_1</td>\n",
       "      <td>udacity_health_patient_id_186</td>\n",
       "      <td>dx_code_15406</td>\n",
       "      <td>NaN</td>\n",
       "      <td>medication_code_2350</td>\n",
       "      <td>NaN</td>\n",
       "      <td>0</td>\n",
       "    </tr>\n",
       "    <tr>\n",
       "      <th>7901</th>\n",
       "      <td>udacity_health_encounter_id_1</td>\n",
       "      <td>udacity_health_patient_id_186</td>\n",
       "      <td>dx_code_15406</td>\n",
       "      <td>NaN</td>\n",
       "      <td>medication_code_8630</td>\n",
       "      <td>NaN</td>\n",
       "      <td>0</td>\n",
       "    </tr>\n",
       "    <tr>\n",
       "      <th>11765</th>\n",
       "      <td>udacity_health_encounter_id_1</td>\n",
       "      <td>udacity_health_patient_id_186</td>\n",
       "      <td>dx_code_15406</td>\n",
       "      <td>NaN</td>\n",
       "      <td>NaN</td>\n",
       "      <td>lab_code_8835</td>\n",
       "      <td>0</td>\n",
       "    </tr>\n",
       "    <tr>\n",
       "      <th>11950</th>\n",
       "      <td>udacity_health_encounter_id_1</td>\n",
       "      <td>udacity_health_patient_id_186</td>\n",
       "      <td>dx_code_15406</td>\n",
       "      <td>procedure_code_58552</td>\n",
       "      <td>NaN</td>\n",
       "      <td>NaN</td>\n",
       "      <td>0</td>\n",
       "    </tr>\n",
       "    <tr>\n",
       "      <th>16057</th>\n",
       "      <td>udacity_health_encounter_id_1</td>\n",
       "      <td>udacity_health_patient_id_186</td>\n",
       "      <td>dx_code_15406</td>\n",
       "      <td>NaN</td>\n",
       "      <td>medication_code_4030</td>\n",
       "      <td>NaN</td>\n",
       "      <td>0</td>\n",
       "    </tr>\n",
       "    <tr>\n",
       "      <th>17961</th>\n",
       "      <td>udacity_health_encounter_id_1</td>\n",
       "      <td>udacity_health_patient_id_186</td>\n",
       "      <td>dx_code_15406</td>\n",
       "      <td>procedure_code_39776</td>\n",
       "      <td>NaN</td>\n",
       "      <td>NaN</td>\n",
       "      <td>0</td>\n",
       "    </tr>\n",
       "    <tr>\n",
       "      <th>24877</th>\n",
       "      <td>udacity_health_encounter_id_1</td>\n",
       "      <td>udacity_health_patient_id_186</td>\n",
       "      <td>dx_code_15406</td>\n",
       "      <td>NaN</td>\n",
       "      <td>medication_code_431</td>\n",
       "      <td>NaN</td>\n",
       "      <td>0</td>\n",
       "    </tr>\n",
       "    <tr>\n",
       "      <th>26235</th>\n",
       "      <td>udacity_health_encounter_id_1</td>\n",
       "      <td>udacity_health_patient_id_186</td>\n",
       "      <td>dx_code_15406</td>\n",
       "      <td>NaN</td>\n",
       "      <td>medication_code_7435</td>\n",
       "      <td>NaN</td>\n",
       "      <td>0</td>\n",
       "    </tr>\n",
       "    <tr>\n",
       "      <th>35490</th>\n",
       "      <td>udacity_health_encounter_id_1</td>\n",
       "      <td>udacity_health_patient_id_186</td>\n",
       "      <td>dx_code_15406</td>\n",
       "      <td>NaN</td>\n",
       "      <td>NaN</td>\n",
       "      <td>lab_code_9859</td>\n",
       "      <td>0</td>\n",
       "    </tr>\n",
       "    <tr>\n",
       "      <th>42855</th>\n",
       "      <td>udacity_health_encounter_id_1</td>\n",
       "      <td>udacity_health_patient_id_186</td>\n",
       "      <td>dx_code_15406</td>\n",
       "      <td>NaN</td>\n",
       "      <td>medication_code_4338</td>\n",
       "      <td>NaN</td>\n",
       "      <td>0</td>\n",
       "    </tr>\n",
       "    <tr>\n",
       "      <th>44848</th>\n",
       "      <td>udacity_health_encounter_id_1</td>\n",
       "      <td>udacity_health_patient_id_186</td>\n",
       "      <td>dx_code_15406</td>\n",
       "      <td>NaN</td>\n",
       "      <td>medication_code_3080</td>\n",
       "      <td>NaN</td>\n",
       "      <td>0</td>\n",
       "    </tr>\n",
       "    <tr>\n",
       "      <th>47715</th>\n",
       "      <td>udacity_health_encounter_id_1</td>\n",
       "      <td>udacity_health_patient_id_186</td>\n",
       "      <td>dx_code_15406</td>\n",
       "      <td>NaN</td>\n",
       "      <td>medication_code_3808</td>\n",
       "      <td>NaN</td>\n",
       "      <td>0</td>\n",
       "    </tr>\n",
       "    <tr>\n",
       "      <th>56278</th>\n",
       "      <td>udacity_health_encounter_id_1</td>\n",
       "      <td>udacity_health_patient_id_186</td>\n",
       "      <td>dx_code_15406</td>\n",
       "      <td>NaN</td>\n",
       "      <td>NaN</td>\n",
       "      <td>lab_code_9032</td>\n",
       "      <td>0</td>\n",
       "    </tr>\n",
       "    <tr>\n",
       "      <th>57825</th>\n",
       "      <td>udacity_health_encounter_id_1</td>\n",
       "      <td>udacity_health_patient_id_186</td>\n",
       "      <td>dx_code_15406</td>\n",
       "      <td>procedure_code_13212</td>\n",
       "      <td>NaN</td>\n",
       "      <td>NaN</td>\n",
       "      <td>0</td>\n",
       "    </tr>\n",
       "    <tr>\n",
       "      <th>60152</th>\n",
       "      <td>udacity_health_encounter_id_1</td>\n",
       "      <td>udacity_health_patient_id_186</td>\n",
       "      <td>dx_code_15406</td>\n",
       "      <td>NaN</td>\n",
       "      <td>NaN</td>\n",
       "      <td>lab_code_9167</td>\n",
       "      <td>0</td>\n",
       "    </tr>\n",
       "    <tr>\n",
       "      <th>81720</th>\n",
       "      <td>udacity_health_encounter_id_1</td>\n",
       "      <td>udacity_health_patient_id_186</td>\n",
       "      <td>dx_code_15406</td>\n",
       "      <td>procedure_code_50377</td>\n",
       "      <td>NaN</td>\n",
       "      <td>NaN</td>\n",
       "      <td>0</td>\n",
       "    </tr>\n",
       "    <tr>\n",
       "      <th>85047</th>\n",
       "      <td>udacity_health_encounter_id_1</td>\n",
       "      <td>udacity_health_patient_id_186</td>\n",
       "      <td>dx_code_15406</td>\n",
       "      <td>NaN</td>\n",
       "      <td>medication_code_8275</td>\n",
       "      <td>NaN</td>\n",
       "      <td>0</td>\n",
       "    </tr>\n",
       "    <tr>\n",
       "      <th>85255</th>\n",
       "      <td>udacity_health_encounter_id_1</td>\n",
       "      <td>udacity_health_patient_id_186</td>\n",
       "      <td>dx_code_15406</td>\n",
       "      <td>NaN</td>\n",
       "      <td>medication_code_7779</td>\n",
       "      <td>NaN</td>\n",
       "      <td>0</td>\n",
       "    </tr>\n",
       "    <tr>\n",
       "      <th>89329</th>\n",
       "      <td>udacity_health_encounter_id_1</td>\n",
       "      <td>udacity_health_patient_id_186</td>\n",
       "      <td>dx_code_15406</td>\n",
       "      <td>NaN</td>\n",
       "      <td>medication_code_4081</td>\n",
       "      <td>NaN</td>\n",
       "      <td>0</td>\n",
       "    </tr>\n",
       "    <tr>\n",
       "      <th>96061</th>\n",
       "      <td>udacity_health_encounter_id_1</td>\n",
       "      <td>udacity_health_patient_id_186</td>\n",
       "      <td>dx_code_15406</td>\n",
       "      <td>NaN</td>\n",
       "      <td>medication_code_5203</td>\n",
       "      <td>NaN</td>\n",
       "      <td>0</td>\n",
       "    </tr>\n",
       "    <tr>\n",
       "      <th>97931</th>\n",
       "      <td>udacity_health_encounter_id_1</td>\n",
       "      <td>udacity_health_patient_id_186</td>\n",
       "      <td>dx_code_15406</td>\n",
       "      <td>NaN</td>\n",
       "      <td>medication_code_1267</td>\n",
       "      <td>NaN</td>\n",
       "      <td>0</td>\n",
       "    </tr>\n",
       "  </tbody>\n",
       "</table>\n",
       "</div>"
      ],
      "text/plain": [
       "                        ENCOUNTER_ID                     PATIENT_ID  \\\n",
       "3246   udacity_health_encounter_id_1  udacity_health_patient_id_186   \n",
       "7901   udacity_health_encounter_id_1  udacity_health_patient_id_186   \n",
       "11765  udacity_health_encounter_id_1  udacity_health_patient_id_186   \n",
       "11950  udacity_health_encounter_id_1  udacity_health_patient_id_186   \n",
       "16057  udacity_health_encounter_id_1  udacity_health_patient_id_186   \n",
       "17961  udacity_health_encounter_id_1  udacity_health_patient_id_186   \n",
       "24877  udacity_health_encounter_id_1  udacity_health_patient_id_186   \n",
       "26235  udacity_health_encounter_id_1  udacity_health_patient_id_186   \n",
       "35490  udacity_health_encounter_id_1  udacity_health_patient_id_186   \n",
       "42855  udacity_health_encounter_id_1  udacity_health_patient_id_186   \n",
       "44848  udacity_health_encounter_id_1  udacity_health_patient_id_186   \n",
       "47715  udacity_health_encounter_id_1  udacity_health_patient_id_186   \n",
       "56278  udacity_health_encounter_id_1  udacity_health_patient_id_186   \n",
       "57825  udacity_health_encounter_id_1  udacity_health_patient_id_186   \n",
       "60152  udacity_health_encounter_id_1  udacity_health_patient_id_186   \n",
       "81720  udacity_health_encounter_id_1  udacity_health_patient_id_186   \n",
       "85047  udacity_health_encounter_id_1  udacity_health_patient_id_186   \n",
       "85255  udacity_health_encounter_id_1  udacity_health_patient_id_186   \n",
       "89329  udacity_health_encounter_id_1  udacity_health_patient_id_186   \n",
       "96061  udacity_health_encounter_id_1  udacity_health_patient_id_186   \n",
       "97931  udacity_health_encounter_id_1  udacity_health_patient_id_186   \n",
       "\n",
       "      PRINCIPAL_DIAGNOSIS_CODE        PROCEDURE_CODE       MEDICATION_CODE  \\\n",
       "3246             dx_code_15406                   NaN  medication_code_2350   \n",
       "7901             dx_code_15406                   NaN  medication_code_8630   \n",
       "11765            dx_code_15406                   NaN                   NaN   \n",
       "11950            dx_code_15406  procedure_code_58552                   NaN   \n",
       "16057            dx_code_15406                   NaN  medication_code_4030   \n",
       "17961            dx_code_15406  procedure_code_39776                   NaN   \n",
       "24877            dx_code_15406                   NaN   medication_code_431   \n",
       "26235            dx_code_15406                   NaN  medication_code_7435   \n",
       "35490            dx_code_15406                   NaN                   NaN   \n",
       "42855            dx_code_15406                   NaN  medication_code_4338   \n",
       "44848            dx_code_15406                   NaN  medication_code_3080   \n",
       "47715            dx_code_15406                   NaN  medication_code_3808   \n",
       "56278            dx_code_15406                   NaN                   NaN   \n",
       "57825            dx_code_15406  procedure_code_13212                   NaN   \n",
       "60152            dx_code_15406                   NaN                   NaN   \n",
       "81720            dx_code_15406  procedure_code_50377                   NaN   \n",
       "85047            dx_code_15406                   NaN  medication_code_8275   \n",
       "85255            dx_code_15406                   NaN  medication_code_7779   \n",
       "89329            dx_code_15406                   NaN  medication_code_4081   \n",
       "96061            dx_code_15406                   NaN  medication_code_5203   \n",
       "97931            dx_code_15406                   NaN  medication_code_1267   \n",
       "\n",
       "            LAB_CODE  LABEL  \n",
       "3246             NaN      0  \n",
       "7901             NaN      0  \n",
       "11765  lab_code_8835      0  \n",
       "11950            NaN      0  \n",
       "16057            NaN      0  \n",
       "17961            NaN      0  \n",
       "24877            NaN      0  \n",
       "26235            NaN      0  \n",
       "35490  lab_code_9859      0  \n",
       "42855            NaN      0  \n",
       "44848            NaN      0  \n",
       "47715            NaN      0  \n",
       "56278  lab_code_9032      0  \n",
       "57825            NaN      0  \n",
       "60152  lab_code_9167      0  \n",
       "81720            NaN      0  \n",
       "85047            NaN      0  \n",
       "85255            NaN      0  \n",
       "89329            NaN      0  \n",
       "96061            NaN      0  \n",
       "97931            NaN      0  "
      ]
     },
     "execution_count": 90,
     "metadata": {},
     "output_type": "execute_result"
    }
   ],
   "source": [
    "ehr_line_df[ehr_line_df['ENCOUNTER_ID']=='udacity_health_encounter_id_1']"
   ]
  },
  {
   "cell_type": "code",
   "execution_count": 91,
   "metadata": {},
   "outputs": [
    {
     "data": {
      "text/html": [
       "<div>\n",
       "<style scoped>\n",
       "    .dataframe tbody tr th:only-of-type {\n",
       "        vertical-align: middle;\n",
       "    }\n",
       "\n",
       "    .dataframe tbody tr th {\n",
       "        vertical-align: top;\n",
       "    }\n",
       "\n",
       "    .dataframe thead th {\n",
       "        text-align: right;\n",
       "    }\n",
       "</style>\n",
       "<table border=\"1\" class=\"dataframe\">\n",
       "  <thead>\n",
       "    <tr style=\"text-align: right;\">\n",
       "      <th></th>\n",
       "      <th>ENCOUNTER_ID</th>\n",
       "      <th>PATIENT_ID</th>\n",
       "      <th>PRINCIPAL_DIAGNOSIS_CODE</th>\n",
       "      <th>PROCEDURE_CODE</th>\n",
       "      <th>MEDICATION_CODE</th>\n",
       "      <th>LAB_CODE</th>\n",
       "      <th>LABEL</th>\n",
       "    </tr>\n",
       "  </thead>\n",
       "  <tbody>\n",
       "    <tr>\n",
       "      <th>0</th>\n",
       "      <td>udacity_health_encounter_id_1</td>\n",
       "      <td>udacity_health_patient_id_186</td>\n",
       "      <td>dx_code_15406</td>\n",
       "      <td>[procedure_code_58552, procedure_code_39776, p...</td>\n",
       "      <td>[medication_code_2350, medication_code_8630, m...</td>\n",
       "      <td>[lab_code_8835, lab_code_9859, lab_code_9032, ...</td>\n",
       "      <td>[0, 0, 0, 0, 0, 0, 0, 0, 0, 0, 0, 0, 0, 0, 0, ...</td>\n",
       "    </tr>\n",
       "  </tbody>\n",
       "</table>\n",
       "</div>"
      ],
      "text/plain": [
       "                    ENCOUNTER_ID                     PATIENT_ID  \\\n",
       "0  udacity_health_encounter_id_1  udacity_health_patient_id_186   \n",
       "\n",
       "  PRINCIPAL_DIAGNOSIS_CODE                                     PROCEDURE_CODE  \\\n",
       "0            dx_code_15406  [procedure_code_58552, procedure_code_39776, p...   \n",
       "\n",
       "                                     MEDICATION_CODE  \\\n",
       "0  [medication_code_2350, medication_code_8630, m...   \n",
       "\n",
       "                                            LAB_CODE  \\\n",
       "0  [lab_code_8835, lab_code_9859, lab_code_9032, ...   \n",
       "\n",
       "                                               LABEL  \n",
       "0  [0, 0, 0, 0, 0, 0, 0, 0, 0, 0, 0, 0, 0, 0, 0, ...  "
      ]
     },
     "execution_count": 91,
     "metadata": {},
     "output_type": "execute_result"
    }
   ],
   "source": [
    "encounter_df[encounter_df['ENCOUNTER_ID']=='udacity_health_encounter_id_1']"
   ]
  },
  {
   "cell_type": "code",
   "execution_count": 92,
   "metadata": {},
   "outputs": [
    {
     "data": {
      "text/html": [
       "<div>\n",
       "<style scoped>\n",
       "    .dataframe tbody tr th:only-of-type {\n",
       "        vertical-align: middle;\n",
       "    }\n",
       "\n",
       "    .dataframe tbody tr th {\n",
       "        vertical-align: top;\n",
       "    }\n",
       "\n",
       "    .dataframe thead th {\n",
       "        text-align: right;\n",
       "    }\n",
       "</style>\n",
       "<table border=\"1\" class=\"dataframe\">\n",
       "  <thead>\n",
       "    <tr style=\"text-align: right;\">\n",
       "      <th></th>\n",
       "      <th>ENCOUNTER_ID</th>\n",
       "      <th>PATIENT_ID</th>\n",
       "      <th>PRINCIPAL_DIAGNOSIS_CODE</th>\n",
       "      <th>PROCEDURE_CODE</th>\n",
       "      <th>MEDICATION_CODE</th>\n",
       "      <th>LAB_CODE</th>\n",
       "      <th>LABEL</th>\n",
       "    </tr>\n",
       "  </thead>\n",
       "  <tbody>\n",
       "    <tr>\n",
       "      <th>4142</th>\n",
       "      <td>udacity_health_encounter_id_5</td>\n",
       "      <td>udacity_health_patient_id_632</td>\n",
       "      <td>dx_code_80370</td>\n",
       "      <td>[procedure_code_14389, procedure_code_71629]</td>\n",
       "      <td>[medication_code_2620, medication_code_3971, m...</td>\n",
       "      <td>[lab_code_9065]</td>\n",
       "      <td>[0, 0, 0, 0, 0, 0]</td>\n",
       "    </tr>\n",
       "  </tbody>\n",
       "</table>\n",
       "</div>"
      ],
      "text/plain": [
       "                       ENCOUNTER_ID                     PATIENT_ID  \\\n",
       "4142  udacity_health_encounter_id_5  udacity_health_patient_id_632   \n",
       "\n",
       "     PRINCIPAL_DIAGNOSIS_CODE                                PROCEDURE_CODE  \\\n",
       "4142            dx_code_80370  [procedure_code_14389, procedure_code_71629]   \n",
       "\n",
       "                                        MEDICATION_CODE         LAB_CODE  \\\n",
       "4142  [medication_code_2620, medication_code_3971, m...  [lab_code_9065]   \n",
       "\n",
       "                   LABEL  \n",
       "4142  [0, 0, 0, 0, 0, 0]  "
      ]
     },
     "execution_count": 92,
     "metadata": {},
     "output_type": "execute_result"
    }
   ],
   "source": [
    "encounter_df[encounter_df['ENCOUNTER_ID']=='udacity_health_encounter_id_5']"
   ]
  },
  {
   "cell_type": "markdown",
   "metadata": {},
   "source": [
    "## 2. Converting Encounter to Longitudinal Representation"
   ]
  },
  {
   "cell_type": "code",
   "execution_count": 93,
   "metadata": {},
   "outputs": [
    {
     "data": {
      "text/html": [
       "<div>\n",
       "<style scoped>\n",
       "    .dataframe tbody tr th:only-of-type {\n",
       "        vertical-align: middle;\n",
       "    }\n",
       "\n",
       "    .dataframe tbody tr th {\n",
       "        vertical-align: top;\n",
       "    }\n",
       "\n",
       "    .dataframe thead th {\n",
       "        text-align: right;\n",
       "    }\n",
       "</style>\n",
       "<table border=\"1\" class=\"dataframe\">\n",
       "  <thead>\n",
       "    <tr style=\"text-align: right;\">\n",
       "      <th></th>\n",
       "      <th>ENCOUNTER_ID</th>\n",
       "      <th>PATIENT_ID</th>\n",
       "      <th>PRINCIPAL_DIAGNOSIS_CODE</th>\n",
       "      <th>PROCEDURE_CODE</th>\n",
       "      <th>MEDICATION_CODE</th>\n",
       "      <th>LAB_CODE</th>\n",
       "      <th>LABEL</th>\n",
       "    </tr>\n",
       "  </thead>\n",
       "  <tbody>\n",
       "    <tr>\n",
       "      <th>0</th>\n",
       "      <td>udacity_health_encounter_id_1</td>\n",
       "      <td>udacity_health_patient_id_186</td>\n",
       "      <td>dx_code_15406</td>\n",
       "      <td>[procedure_code_58552, procedure_code_39776, p...</td>\n",
       "      <td>[medication_code_2350, medication_code_8630, m...</td>\n",
       "      <td>[lab_code_8835, lab_code_9859, lab_code_9032, ...</td>\n",
       "      <td>[0, 0, 0, 0, 0, 0, 0, 0, 0, 0, 0, 0, 0, 0, 0, ...</td>\n",
       "    </tr>\n",
       "    <tr>\n",
       "      <th>1</th>\n",
       "      <td>udacity_health_encounter_id_10</td>\n",
       "      <td>udacity_health_patient_id_188</td>\n",
       "      <td>dx_code_74047</td>\n",
       "      <td>[]</td>\n",
       "      <td>[medication_code_7789, medication_code_3560, m...</td>\n",
       "      <td>[]</td>\n",
       "      <td>[1, 1, 1, 1]</td>\n",
       "    </tr>\n",
       "    <tr>\n",
       "      <th>2</th>\n",
       "      <td>udacity_health_encounter_id_100</td>\n",
       "      <td>udacity_health_patient_id_585</td>\n",
       "      <td>dx_code_71465</td>\n",
       "      <td>[]</td>\n",
       "      <td>[medication_code_7982, medication_code_2452, m...</td>\n",
       "      <td>[lab_code_4198, lab_code_6603, lab_code_332, l...</td>\n",
       "      <td>[0, 0, 0, 0, 0, 0, 0]</td>\n",
       "    </tr>\n",
       "    <tr>\n",
       "      <th>3</th>\n",
       "      <td>udacity_health_encounter_id_1000</td>\n",
       "      <td>udacity_health_patient_id_525</td>\n",
       "      <td>dx_code_61569</td>\n",
       "      <td>[]</td>\n",
       "      <td>[medication_code_4036]</td>\n",
       "      <td>[]</td>\n",
       "      <td>[0]</td>\n",
       "    </tr>\n",
       "    <tr>\n",
       "      <th>4</th>\n",
       "      <td>udacity_health_encounter_id_1001</td>\n",
       "      <td>udacity_health_patient_id_950</td>\n",
       "      <td>dx_code_90172</td>\n",
       "      <td>[procedure_code_30555]</td>\n",
       "      <td>[medication_code_6755, medication_code_5045]</td>\n",
       "      <td>[lab_code_9112]</td>\n",
       "      <td>[0, 0, 0, 0]</td>\n",
       "    </tr>\n",
       "  </tbody>\n",
       "</table>\n",
       "</div>"
      ],
      "text/plain": [
       "                       ENCOUNTER_ID                     PATIENT_ID  \\\n",
       "0     udacity_health_encounter_id_1  udacity_health_patient_id_186   \n",
       "1    udacity_health_encounter_id_10  udacity_health_patient_id_188   \n",
       "2   udacity_health_encounter_id_100  udacity_health_patient_id_585   \n",
       "3  udacity_health_encounter_id_1000  udacity_health_patient_id_525   \n",
       "4  udacity_health_encounter_id_1001  udacity_health_patient_id_950   \n",
       "\n",
       "  PRINCIPAL_DIAGNOSIS_CODE                                     PROCEDURE_CODE  \\\n",
       "0            dx_code_15406  [procedure_code_58552, procedure_code_39776, p...   \n",
       "1            dx_code_74047                                                 []   \n",
       "2            dx_code_71465                                                 []   \n",
       "3            dx_code_61569                                                 []   \n",
       "4            dx_code_90172                             [procedure_code_30555]   \n",
       "\n",
       "                                     MEDICATION_CODE  \\\n",
       "0  [medication_code_2350, medication_code_8630, m...   \n",
       "1  [medication_code_7789, medication_code_3560, m...   \n",
       "2  [medication_code_7982, medication_code_2452, m...   \n",
       "3                             [medication_code_4036]   \n",
       "4       [medication_code_6755, medication_code_5045]   \n",
       "\n",
       "                                            LAB_CODE  \\\n",
       "0  [lab_code_8835, lab_code_9859, lab_code_9032, ...   \n",
       "1                                                 []   \n",
       "2  [lab_code_4198, lab_code_6603, lab_code_332, l...   \n",
       "3                                                 []   \n",
       "4                                    [lab_code_9112]   \n",
       "\n",
       "                                               LABEL  \n",
       "0  [0, 0, 0, 0, 0, 0, 0, 0, 0, 0, 0, 0, 0, 0, 0, ...  \n",
       "1                                       [1, 1, 1, 1]  \n",
       "2                              [0, 0, 0, 0, 0, 0, 0]  \n",
       "3                                                [0]  \n",
       "4                                       [0, 0, 0, 0]  "
      ]
     },
     "execution_count": 93,
     "metadata": {},
     "output_type": "execute_result"
    }
   ],
   "source": [
    "encounter_df.head()"
   ]
  },
  {
   "cell_type": "code",
   "execution_count": 94,
   "metadata": {},
   "outputs": [],
   "source": [
    "patient_grouping_field_list = [\"PATIENT_ID\"]\n",
    "non_patient_agg_field_list = [c for c in encounter_df.columns if c not in patient_grouping_field_list]"
   ]
  },
  {
   "cell_type": "code",
   "execution_count": 95,
   "metadata": {},
   "outputs": [],
   "source": [
    "long_df = encounter_df.groupby(patient_grouping_field_list)[non_patient_agg_field_list].agg(lambda x: \n",
    "                                                        list([y for y in x if y is not np.nan ] ) ).reset_index()"
   ]
  },
  {
   "cell_type": "code",
   "execution_count": 96,
   "metadata": {},
   "outputs": [
    {
     "data": {
      "text/html": [
       "<div>\n",
       "<style scoped>\n",
       "    .dataframe tbody tr th:only-of-type {\n",
       "        vertical-align: middle;\n",
       "    }\n",
       "\n",
       "    .dataframe tbody tr th {\n",
       "        vertical-align: top;\n",
       "    }\n",
       "\n",
       "    .dataframe thead th {\n",
       "        text-align: right;\n",
       "    }\n",
       "</style>\n",
       "<table border=\"1\" class=\"dataframe\">\n",
       "  <thead>\n",
       "    <tr style=\"text-align: right;\">\n",
       "      <th></th>\n",
       "      <th>PATIENT_ID</th>\n",
       "      <th>ENCOUNTER_ID</th>\n",
       "      <th>PRINCIPAL_DIAGNOSIS_CODE</th>\n",
       "      <th>PROCEDURE_CODE</th>\n",
       "      <th>MEDICATION_CODE</th>\n",
       "      <th>LAB_CODE</th>\n",
       "      <th>LABEL</th>\n",
       "    </tr>\n",
       "  </thead>\n",
       "  <tbody>\n",
       "    <tr>\n",
       "      <th>0</th>\n",
       "      <td>udacity_health_patient_id_1</td>\n",
       "      <td>[udacity_health_encounter_id_1038, udacity_hea...</td>\n",
       "      <td>[dx_code_36196, dx_code_63471, dx_code_29114, ...</td>\n",
       "      <td>[[procedure_code_36285, procedure_code_21124, ...</td>\n",
       "      <td>[[medication_code_3772, medication_code_9214, ...</td>\n",
       "      <td>[[lab_code_3982, lab_code_306], [], [lab_code_...</td>\n",
       "      <td>[[1, 1, 1, 1, 1, 1, 1, 1, 1, 1, 1, 1, 1, 1, 1,...</td>\n",
       "    </tr>\n",
       "    <tr>\n",
       "      <th>1</th>\n",
       "      <td>udacity_health_patient_id_10</td>\n",
       "      <td>[udacity_health_encounter_id_1110, udacity_hea...</td>\n",
       "      <td>[dx_code_29609, dx_code_268, dx_code_26932, dx...</td>\n",
       "      <td>[[procedure_code_9379], [procedure_code_3052, ...</td>\n",
       "      <td>[[medication_code_7371, medication_code_2104, ...</td>\n",
       "      <td>[[lab_code_6457], [lab_code_2180, lab_code_693...</td>\n",
       "      <td>[[0, 0, 0, 0, 0, 0, 0, 0, 0], [0, 0, 0, 0, 0, ...</td>\n",
       "    </tr>\n",
       "    <tr>\n",
       "      <th>2</th>\n",
       "      <td>udacity_health_patient_id_100</td>\n",
       "      <td>[udacity_health_encounter_id_1205, udacity_hea...</td>\n",
       "      <td>[dx_code_32095, dx_code_45376, dx_code_48998, ...</td>\n",
       "      <td>[[procedure_code_71055, procedure_code_29744, ...</td>\n",
       "      <td>[[medication_code_2399, medication_code_966, m...</td>\n",
       "      <td>[[lab_code_4928, lab_code_6524, lab_code_1713,...</td>\n",
       "      <td>[[0, 0, 0, 0, 0, 0, 0, 0, 0, 0, 0, 0, 0, 0, 0,...</td>\n",
       "    </tr>\n",
       "    <tr>\n",
       "      <th>3</th>\n",
       "      <td>udacity_health_patient_id_1000</td>\n",
       "      <td>[udacity_health_encounter_id_1105, udacity_hea...</td>\n",
       "      <td>[dx_code_53764, dx_code_50924, dx_code_80218, ...</td>\n",
       "      <td>[[], [procedure_code_7870, procedure_code_2169...</td>\n",
       "      <td>[[medication_code_6580, medication_code_3007],...</td>\n",
       "      <td>[[], [lab_code_5468], [lab_code_7607], [lab_co...</td>\n",
       "      <td>[[1, 1], [1, 1, 1, 1, 1, 1], [1, 1, 1, 1, 1, 1...</td>\n",
       "    </tr>\n",
       "    <tr>\n",
       "      <th>4</th>\n",
       "      <td>udacity_health_patient_id_101</td>\n",
       "      <td>[udacity_health_encounter_id_2058, udacity_hea...</td>\n",
       "      <td>[dx_code_13590, dx_code_29551]</td>\n",
       "      <td>[[procedure_code_45319, procedure_code_67294],...</td>\n",
       "      <td>[[medication_code_2532], [medication_code_4311...</td>\n",
       "      <td>[[lab_code_1206, lab_code_9967], []]</td>\n",
       "      <td>[[0, 0, 0, 0, 0], [0, 0, 0, 0, 0]]</td>\n",
       "    </tr>\n",
       "  </tbody>\n",
       "</table>\n",
       "</div>"
      ],
      "text/plain": [
       "                       PATIENT_ID  \\\n",
       "0     udacity_health_patient_id_1   \n",
       "1    udacity_health_patient_id_10   \n",
       "2   udacity_health_patient_id_100   \n",
       "3  udacity_health_patient_id_1000   \n",
       "4   udacity_health_patient_id_101   \n",
       "\n",
       "                                        ENCOUNTER_ID  \\\n",
       "0  [udacity_health_encounter_id_1038, udacity_hea...   \n",
       "1  [udacity_health_encounter_id_1110, udacity_hea...   \n",
       "2  [udacity_health_encounter_id_1205, udacity_hea...   \n",
       "3  [udacity_health_encounter_id_1105, udacity_hea...   \n",
       "4  [udacity_health_encounter_id_2058, udacity_hea...   \n",
       "\n",
       "                            PRINCIPAL_DIAGNOSIS_CODE  \\\n",
       "0  [dx_code_36196, dx_code_63471, dx_code_29114, ...   \n",
       "1  [dx_code_29609, dx_code_268, dx_code_26932, dx...   \n",
       "2  [dx_code_32095, dx_code_45376, dx_code_48998, ...   \n",
       "3  [dx_code_53764, dx_code_50924, dx_code_80218, ...   \n",
       "4                     [dx_code_13590, dx_code_29551]   \n",
       "\n",
       "                                      PROCEDURE_CODE  \\\n",
       "0  [[procedure_code_36285, procedure_code_21124, ...   \n",
       "1  [[procedure_code_9379], [procedure_code_3052, ...   \n",
       "2  [[procedure_code_71055, procedure_code_29744, ...   \n",
       "3  [[], [procedure_code_7870, procedure_code_2169...   \n",
       "4  [[procedure_code_45319, procedure_code_67294],...   \n",
       "\n",
       "                                     MEDICATION_CODE  \\\n",
       "0  [[medication_code_3772, medication_code_9214, ...   \n",
       "1  [[medication_code_7371, medication_code_2104, ...   \n",
       "2  [[medication_code_2399, medication_code_966, m...   \n",
       "3  [[medication_code_6580, medication_code_3007],...   \n",
       "4  [[medication_code_2532], [medication_code_4311...   \n",
       "\n",
       "                                            LAB_CODE  \\\n",
       "0  [[lab_code_3982, lab_code_306], [], [lab_code_...   \n",
       "1  [[lab_code_6457], [lab_code_2180, lab_code_693...   \n",
       "2  [[lab_code_4928, lab_code_6524, lab_code_1713,...   \n",
       "3  [[], [lab_code_5468], [lab_code_7607], [lab_co...   \n",
       "4               [[lab_code_1206, lab_code_9967], []]   \n",
       "\n",
       "                                               LABEL  \n",
       "0  [[1, 1, 1, 1, 1, 1, 1, 1, 1, 1, 1, 1, 1, 1, 1,...  \n",
       "1  [[0, 0, 0, 0, 0, 0, 0, 0, 0], [0, 0, 0, 0, 0, ...  \n",
       "2  [[0, 0, 0, 0, 0, 0, 0, 0, 0, 0, 0, 0, 0, 0, 0,...  \n",
       "3  [[1, 1], [1, 1, 1, 1, 1, 1], [1, 1, 1, 1, 1, 1...  \n",
       "4                 [[0, 0, 0, 0, 0], [0, 0, 0, 0, 0]]  "
      ]
     },
     "execution_count": 96,
     "metadata": {},
     "output_type": "execute_result"
    }
   ],
   "source": [
    "long_df.head()"
   ]
  },
  {
   "cell_type": "code",
   "execution_count": 97,
   "metadata": {},
   "outputs": [],
   "source": [
    "example_patient_history = long_df[long_df['PATIENT_ID']=='udacity_health_patient_id_310']"
   ]
  },
  {
   "cell_type": "code",
   "execution_count": 98,
   "metadata": {},
   "outputs": [
    {
     "data": {
      "text/html": [
       "<div>\n",
       "<style scoped>\n",
       "    .dataframe tbody tr th:only-of-type {\n",
       "        vertical-align: middle;\n",
       "    }\n",
       "\n",
       "    .dataframe tbody tr th {\n",
       "        vertical-align: top;\n",
       "    }\n",
       "\n",
       "    .dataframe thead th {\n",
       "        text-align: right;\n",
       "    }\n",
       "</style>\n",
       "<table border=\"1\" class=\"dataframe\">\n",
       "  <thead>\n",
       "    <tr style=\"text-align: right;\">\n",
       "      <th></th>\n",
       "      <th>PATIENT_ID</th>\n",
       "      <th>ENCOUNTER_ID</th>\n",
       "      <th>PRINCIPAL_DIAGNOSIS_CODE</th>\n",
       "      <th>PROCEDURE_CODE</th>\n",
       "      <th>MEDICATION_CODE</th>\n",
       "      <th>LAB_CODE</th>\n",
       "      <th>LABEL</th>\n",
       "    </tr>\n",
       "  </thead>\n",
       "  <tbody>\n",
       "    <tr>\n",
       "      <th>211</th>\n",
       "      <td>udacity_health_patient_id_310</td>\n",
       "      <td>[udacity_health_encounter_id_4647, udacity_hea...</td>\n",
       "      <td>[dx_code_74153, dx_code_95836, dx_code_39465, ...</td>\n",
       "      <td>[[procedure_code_40521, procedure_code_52188, ...</td>\n",
       "      <td>[[medication_code_7251, medication_code_2765, ...</td>\n",
       "      <td>[[lab_code_1372], [lab_code_1794], [lab_code_1...</td>\n",
       "      <td>[[0, 0, 0, 0, 0, 0, 0, 0, 0, 0, 0, 0, 0, 0, 0,...</td>\n",
       "    </tr>\n",
       "  </tbody>\n",
       "</table>\n",
       "</div>"
      ],
      "text/plain": [
       "                        PATIENT_ID  \\\n",
       "211  udacity_health_patient_id_310   \n",
       "\n",
       "                                          ENCOUNTER_ID  \\\n",
       "211  [udacity_health_encounter_id_4647, udacity_hea...   \n",
       "\n",
       "                              PRINCIPAL_DIAGNOSIS_CODE  \\\n",
       "211  [dx_code_74153, dx_code_95836, dx_code_39465, ...   \n",
       "\n",
       "                                        PROCEDURE_CODE  \\\n",
       "211  [[procedure_code_40521, procedure_code_52188, ...   \n",
       "\n",
       "                                       MEDICATION_CODE  \\\n",
       "211  [[medication_code_7251, medication_code_2765, ...   \n",
       "\n",
       "                                              LAB_CODE  \\\n",
       "211  [[lab_code_1372], [lab_code_1794], [lab_code_1...   \n",
       "\n",
       "                                                 LABEL  \n",
       "211  [[0, 0, 0, 0, 0, 0, 0, 0, 0, 0, 0, 0, 0, 0, 0,...  "
      ]
     },
     "execution_count": 98,
     "metadata": {},
     "output_type": "execute_result"
    }
   ],
   "source": [
    "example_patient_history"
   ]
  },
  {
   "cell_type": "code",
   "execution_count": 99,
   "metadata": {},
   "outputs": [
    {
     "data": {
      "text/plain": [
       "[['udacity_health_encounter_id_4647',\n",
       "  'udacity_health_encounter_id_5010',\n",
       "  'udacity_health_encounter_id_551',\n",
       "  'udacity_health_encounter_id_7210',\n",
       "  'udacity_health_encounter_id_7331']]"
      ]
     },
     "execution_count": 99,
     "metadata": {},
     "output_type": "execute_result"
    }
   ],
   "source": [
    "list(example_patient_history['ENCOUNTER_ID'].values)"
   ]
  },
  {
   "cell_type": "code",
   "execution_count": 100,
   "metadata": {},
   "outputs": [
    {
     "data": {
      "text/plain": [
       "[['dx_code_74153',\n",
       "  'dx_code_95836',\n",
       "  'dx_code_39465',\n",
       "  'dx_code_66358',\n",
       "  'dx_code_99743']]"
      ]
     },
     "execution_count": 100,
     "metadata": {},
     "output_type": "execute_result"
    }
   ],
   "source": [
    "list(example_patient_history['PRINCIPAL_DIAGNOSIS_CODE'].values)"
   ]
  },
  {
   "cell_type": "code",
   "execution_count": 101,
   "metadata": {},
   "outputs": [
    {
     "data": {
      "text/plain": [
       "['udacity_health_patient_id_310']"
      ]
     },
     "execution_count": 101,
     "metadata": {},
     "output_type": "execute_result"
    }
   ],
   "source": [
    "list(example_patient_history['PATIENT_ID'].values)"
   ]
  },
  {
   "cell_type": "code",
   "execution_count": 102,
   "metadata": {},
   "outputs": [
    {
     "data": {
      "text/plain": [
       "[[['procedure_code_40521',\n",
       "   'procedure_code_52188',\n",
       "   'procedure_code_57020',\n",
       "   'procedure_code_11784',\n",
       "   'procedure_code_50478'],\n",
       "  ['procedure_code_12696',\n",
       "   'procedure_code_2873',\n",
       "   'procedure_code_28392',\n",
       "   'procedure_code_1398'],\n",
       "  ['procedure_code_49962'],\n",
       "  [],\n",
       "  ['procedure_code_31171']]]"
      ]
     },
     "execution_count": 102,
     "metadata": {},
     "output_type": "execute_result"
    }
   ],
   "source": [
    "list(example_patient_history['PROCEDURE_CODE'].values)"
   ]
  },
  {
   "cell_type": "markdown",
   "metadata": {},
   "source": [
    "## 3. How to Split Dataset at Patient Level"
   ]
  },
  {
   "cell_type": "markdown",
   "metadata": {},
   "source": [
    "#### ***Objective:*** \n",
    "- Split dataset at patient level into train and test partitions\n",
    "- Validate that split was done correctly"
   ]
  },
  {
   "cell_type": "markdown",
   "metadata": {},
   "source": [
    "#### Dataset Splitting Tests\n",
    "- Patient data in only one partition\n",
    "- Total unique number of patients across all partitions = total number unique patients in original full dataset\n",
    "- Total number of rows original dataset = sum of rows across splits"
   ]
  },
  {
   "cell_type": "code",
   "execution_count": 103,
   "metadata": {},
   "outputs": [],
   "source": [
    "PATIENT_ID_FIELD = 'PATIENT_ID'\n",
    "TEST_PERCENTAGE = 0.2"
   ]
  },
  {
   "cell_type": "code",
   "execution_count": 104,
   "metadata": {},
   "outputs": [],
   "source": [
    "def split_dataset_patient_level(df, key, test_percentage=0.2):\n",
    "    df = df.iloc[np.random.permutation(len(df))]\n",
    "    unique_values = df[key].unique()\n",
    "    total_values = len(unique_values)\n",
    "    sample_size = round(total_values * (1 - test_percentage ))\n",
    "    train = df[df[key].isin(unique_values[:sample_size])].reset_index(drop=True)\n",
    "    test = df[df[key].isin(unique_values[sample_size:])].reset_index(drop=True)\n",
    "    return train, test"
   ]
  },
  {
   "cell_type": "code",
   "execution_count": 105,
   "metadata": {},
   "outputs": [
    {
     "ename": "NameError",
     "evalue": "name 'train_df' is not defined",
     "output_type": "error",
     "traceback": [
      "\u001b[0;31m---------------------------------------------------------------------------\u001b[0m",
      "\u001b[0;31mNameError\u001b[0m                                 Traceback (most recent call last)",
      "\u001b[0;32m<ipython-input-105-193753be380d>\u001b[0m in \u001b[0;36m<module>\u001b[0;34m\u001b[0m\n\u001b[0;32m----> 1\u001b[0;31m \u001b[0mtrain_df\u001b[0m\u001b[0;34m.\u001b[0m\u001b[0mhead\u001b[0m\u001b[0;34m(\u001b[0m\u001b[0;34m)\u001b[0m\u001b[0;34m\u001b[0m\u001b[0;34m\u001b[0m\u001b[0m\n\u001b[0m",
      "\u001b[0;31mNameError\u001b[0m: name 'train_df' is not defined"
     ]
    }
   ],
   "source": [
    "train_df.head()"
   ]
  },
  {
   "cell_type": "code",
   "execution_count": null,
   "metadata": {},
   "outputs": [],
   "source": [
    "test_df.head()"
   ]
  },
  {
   "cell_type": "code",
   "execution_count": null,
   "metadata": {},
   "outputs": [],
   "source": [
    "train_df, test_df = split_dataset_patient_level(encounter_df, PATIENT_ID_FIELD, TEST_PERCENTAGE)"
   ]
  },
  {
   "cell_type": "code",
   "execution_count": null,
   "metadata": {},
   "outputs": [],
   "source": [
    "assert len(set(train_df[PATIENT_ID_FIELD].unique()).intersection(set(test_df[PATIENT_ID_FIELD].unique()))) == 0\n",
    "print(\"Test passed for patient data in only one partition\")"
   ]
  },
  {
   "cell_type": "code",
   "execution_count": null,
   "metadata": {},
   "outputs": [],
   "source": [
    "assert (train_df[PATIENT_ID_FIELD].nunique()  + test_df[PATIENT_ID_FIELD].nunique()) == encounter_df[PATIENT_ID_FIELD].nunique()\n",
    "print(\"Test passed for number of unique patients being equal!\")"
   ]
  },
  {
   "cell_type": "code",
   "execution_count": null,
   "metadata": {},
   "outputs": [],
   "source": [
    "assert len(train_df)  + len(test_df) == len(encounter_df)\n",
    "print(\"Test passed for number of total rows equal!\")"
   ]
  },
  {
   "cell_type": "markdown",
   "metadata": {},
   "source": [
    "## 4. ETL with TF Dataset API and Pandas"
   ]
  },
  {
   "cell_type": "markdown",
   "metadata": {},
   "source": [
    "NOTE: In some cases you may need to preprocess Pandas Dataframe to removed mixed types. In particular, remove null values and impute or remove rows (we will later impute with zero for numerical features)."
   ]
  },
  {
   "cell_type": "code",
   "execution_count": null,
   "metadata": {},
   "outputs": [],
   "source": [
    "import tensorflow as tf"
   ]
  },
  {
   "cell_type": "code",
   "execution_count": null,
   "metadata": {},
   "outputs": [],
   "source": [
    "swiss_dataset_path = \"./data/processed_swiss.csv\"\n",
    "swiss_df = pd.read_csv(swiss_dataset_path)\n",
    "selected_col_list = ['age', 'thalach', 'cp', 'num_label']\n",
    "subset_swiss_df = swiss_df[selected_col_list]"
   ]
  },
  {
   "cell_type": "code",
   "execution_count": null,
   "metadata": {},
   "outputs": [],
   "source": [
    "swiss_df.head()"
   ]
  },
  {
   "cell_type": "code",
   "execution_count": null,
   "metadata": {},
   "outputs": [],
   "source": [
    "subset_swiss_df.head()"
   ]
  },
  {
   "cell_type": "code",
   "execution_count": null,
   "metadata": {},
   "outputs": [],
   "source": [
    "#adapted from https://www.tensorflow.org/tutorials/structured_data/feature_columns\n",
    "def df_to_dataset(df, predictor,  batch_size=32):\n",
    "    df = df.copy()\n",
    "    labels = df.pop(predictor)\n",
    "    ds = tf.data.Dataset.from_tensor_slices((dict(df), labels))\n",
    "    ds = ds.shuffle(buffer_size=len(df))\n",
    "    ds = ds.batch(batch_size)\n",
    "    return ds"
   ]
  },
  {
   "cell_type": "code",
   "execution_count": null,
   "metadata": {},
   "outputs": [],
   "source": [
    "print(sample_tf_ds)"
   ]
  },
  {
   "cell_type": "code",
   "execution_count": null,
   "metadata": {},
   "outputs": [],
   "source": [
    "BATCH_SIZE = 64\n",
    "PREDICTOR_FIELD = 'num_label'\n",
    "sample_tf_ds = df_to_dataset(subset_swiss_df, PREDICTOR_FIELD, batch_size=BATCH_SIZE)"
   ]
  },
  {
   "cell_type": "code",
   "execution_count": null,
   "metadata": {},
   "outputs": [],
   "source": [
    "sample_feature_batch = next(iter(sample_tf_ds))[0]\n",
    "sample_feature_batch"
   ]
  },
  {
   "cell_type": "code",
   "execution_count": null,
   "metadata": {},
   "outputs": [],
   "source": [
    "sample_label_batch = next(iter(sample_tf_ds))[1]\n",
    "sample_label_batch"
   ]
  },
  {
   "cell_type": "markdown",
   "metadata": {},
   "source": [
    "## 5. Building Numerical Feature with TF Feature Column API"
   ]
  },
  {
   "cell_type": "code",
   "execution_count": null,
   "metadata": {},
   "outputs": [],
   "source": [
    "subset_swiss_df.head()"
   ]
  },
  {
   "cell_type": "code",
   "execution_count": null,
   "metadata": {},
   "outputs": [],
   "source": [
    "age_mean = subset_swiss_df['age'].describe()['mean']\n",
    "age_std = subset_swiss_df['age'].describe()['std']\n",
    "print(\"Mean age:{}\\nStandard Deviation Age:{}\".format(age_mean, age_std))"
   ]
  },
  {
   "cell_type": "code",
   "execution_count": null,
   "metadata": {},
   "outputs": [],
   "source": [
    "import functools\n",
    "def normalize_numeric_with_zscore(col, mean, std):\n",
    "    return (col - mean)/std\n",
    "\n",
    "def create_tf_numeric_feature(col, MEAN, STD,   default_value=0):\n",
    "    normalizer = functools.partial(normalize_numeric_with_zscore, mean=MEAN, std=STD)\n",
    "    return tf.feature_column.numeric_column(\n",
    "    key=col, default_value = default_value, normalizer_fn=normalizer, dtype=tf.float64)"
   ]
  },
  {
   "cell_type": "code",
   "execution_count": null,
   "metadata": {},
   "outputs": [],
   "source": [
    "age_tf_feature = create_tf_numeric_feature('age', age_mean, age_std)"
   ]
  },
  {
   "cell_type": "code",
   "execution_count": null,
   "metadata": {},
   "outputs": [],
   "source": [
    "def demo(feature_column, example_batch):\n",
    "    feature_layer = tf.keras.layers.DenseFeatures(feature_column)\n",
    "    print(feature_layer(example_batch))"
   ]
  },
  {
   "cell_type": "code",
   "execution_count": null,
   "metadata": {},
   "outputs": [],
   "source": [
    "print(\"Example continuous field:\\n{}\\n\".format(age_tf_feature))\n",
    "demo(age_tf_feature, sample_feature_batch)"
   ]
  },
  {
   "cell_type": "markdown",
   "metadata": {},
   "source": [
    "## 6. Building Categorical Features with TF Feature Column API"
   ]
  },
  {
   "cell_type": "code",
   "execution_count": null,
   "metadata": {},
   "outputs": [],
   "source": [
    "categorical_example_df = encounter_df[['ENCOUNTER_ID', 'PRINCIPAL_DIAGNOSIS_CODE', 'LABEL']] "
   ]
  },
  {
   "cell_type": "code",
   "execution_count": null,
   "metadata": {},
   "outputs": [],
   "source": [
    "# for this task need to convert label from array to scalar value\n",
    "categorical_example_df['LABEL'] = categorical_example_df['LABEL'].apply(lambda x: np.unique(x)[0])"
   ]
  },
  {
   "cell_type": "code",
   "execution_count": null,
   "metadata": {},
   "outputs": [],
   "source": [
    "categorical_example_df.head()"
   ]
  },
  {
   "cell_type": "markdown",
   "metadata": {},
   "source": [
    "### High Cardinality for Principal Diagnosis Code"
   ]
  },
  {
   "cell_type": "code",
   "execution_count": null,
   "metadata": {},
   "outputs": [],
   "source": [
    "categorical_example_df['PRINCIPAL_DIAGNOSIS_CODE'].nunique()"
   ]
  },
  {
   "cell_type": "markdown",
   "metadata": {},
   "source": [
    "### Generate Vocabulary File"
   ]
  },
  {
   "cell_type": "code",
   "execution_count": null,
   "metadata": {},
   "outputs": [],
   "source": [
    "#make vocab dir\n",
    "import os\n",
    "#os.mkdir(\"./vocab/\")"
   ]
  },
  {
   "cell_type": "code",
   "execution_count": null,
   "metadata": {},
   "outputs": [],
   "source": [
    "# build vocab for categorical features\n",
    "def write_vocabulary_file(vocab_list, field_name, default_value, vocab_dir='./vocab/'):\n",
    "    output_file_path = os.path.join(vocab_dir, str(field_name) + \"_vocab.txt\")\n",
    "    # put default value in first row as TF requires\n",
    "    vocab_list = np.insert(vocab_list, 0, default_value, axis=0) \n",
    "    df = pd.DataFrame(vocab_list).to_csv(output_file_path, index=None, header=None)\n",
    "    return output_file_path\n",
    "\n",
    "def build_vocab_files(df, categorical_column_list, default_value='00'):\n",
    "    vocab_files_list = []\n",
    "    for c in categorical_column_list:\n",
    "        v_file = write_vocabulary_file(df[c].unique(), c, default_value)\n",
    "        vocab_files_list.append(v_file)\n",
    "    return vocab_files_list"
   ]
  },
  {
   "cell_type": "code",
   "execution_count": null,
   "metadata": {},
   "outputs": [],
   "source": [
    "categorical_field_list = [\"PRINCIPAL_DIAGNOSIS_CODE\"]\n",
    "vocab_files_list = build_vocab_files(categorical_example_df, categorical_field_list)"
   ]
  },
  {
   "cell_type": "markdown",
   "metadata": {},
   "source": [
    "### Build TF Dataset from Pandas Dataframe"
   ]
  },
  {
   "cell_type": "code",
   "execution_count": 87,
   "metadata": {},
   "outputs": [],
   "source": [
    "BATCH_SIZE = 64\n",
    "PREDICTOR_FIELD = 'LABEL'\n",
    "categorical_tf_ds = df_to_dataset(categorical_example_df, PREDICTOR_FIELD, batch_size=BATCH_SIZE)"
   ]
  },
  {
   "cell_type": "markdown",
   "metadata": {},
   "source": [
    "### Use TF Feature Column API to read from vocab file"
   ]
  },
  {
   "cell_type": "code",
   "execution_count": 88,
   "metadata": {},
   "outputs": [
    {
     "data": {
      "text/plain": [
       "'./vocab/PRINCIPAL_DIAGNOSIS_CODE_vocab.txt'"
      ]
     },
     "execution_count": 88,
     "metadata": {},
     "output_type": "execute_result"
    }
   ],
   "source": [
    "vocab_files_list[0]"
   ]
  },
  {
   "cell_type": "code",
   "execution_count": 89,
   "metadata": {},
   "outputs": [
    {
     "name": "stdout",
     "output_type": "stream",
     "text": [
      "INFO:tensorflow:vocabulary_size = 6753 in PRINCIPAL_DIAGNOSIS_CODE is inferred from the number of elements in the vocabulary_file ./vocab/PRINCIPAL_DIAGNOSIS_CODE_vocab.txt.\n"
     ]
    }
   ],
   "source": [
    "principal_diagnosis_vocab = tf.feature_column.categorical_column_with_vocabulary_file(\n",
    "            key=\"PRINCIPAL_DIAGNOSIS_CODE\", vocabulary_file = vocab_files_list[0], num_oov_buckets=1)"
   ]
  },
  {
   "cell_type": "markdown",
   "metadata": {},
   "source": [
    "### Create one-hot encoding  from vocab column feature function"
   ]
  },
  {
   "cell_type": "code",
   "execution_count": 90,
   "metadata": {},
   "outputs": [],
   "source": [
    "one_hot_principal_diagnosis_feature = tf.feature_column.indicator_column(principal_diagnosis_vocab)"
   ]
  },
  {
   "cell_type": "code",
   "execution_count": 91,
   "metadata": {},
   "outputs": [],
   "source": [
    "categorical_tf_ds_batch = next(iter(categorical_tf_ds))[0]"
   ]
  },
  {
   "cell_type": "code",
   "execution_count": 92,
   "metadata": {},
   "outputs": [
    {
     "name": "stdout",
     "output_type": "stream",
     "text": [
      "WARNING:tensorflow:From /opt/conda/lib/python3.7/site-packages/tensorflow_core/python/feature_column/feature_column_v2.py:4267: IndicatorColumn._variable_shape (from tensorflow.python.feature_column.feature_column_v2) is deprecated and will be removed in a future version.\n",
      "Instructions for updating:\n",
      "The old _FeatureColumn APIs are being deprecated. Please use the new FeatureColumn APIs instead.\n",
      "WARNING:tensorflow:From /opt/conda/lib/python3.7/site-packages/tensorflow_core/python/feature_column/feature_column_v2.py:4322: VocabularyFileCategoricalColumn._num_buckets (from tensorflow.python.feature_column.feature_column_v2) is deprecated and will be removed in a future version.\n",
      "Instructions for updating:\n",
      "The old _FeatureColumn APIs are being deprecated. Please use the new FeatureColumn APIs instead.\n",
      "tf.Tensor(\n",
      "[[0. 0. 0. ... 0. 0. 0.]\n",
      " [0. 0. 0. ... 0. 0. 0.]\n",
      " [0. 0. 0. ... 0. 0. 0.]\n",
      " ...\n",
      " [0. 0. 0. ... 0. 0. 0.]\n",
      " [0. 0. 0. ... 0. 0. 0.]\n",
      " [0. 0. 0. ... 0. 0. 0.]], shape=(64, 6754), dtype=float32)\n"
     ]
    }
   ],
   "source": [
    "demo(one_hot_principal_diagnosis_feature, categorical_tf_ds_batch)"
   ]
  },
  {
   "cell_type": "code",
   "execution_count": null,
   "metadata": {},
   "outputs": [],
   "source": []
  },
  {
   "cell_type": "code",
   "execution_count": null,
   "metadata": {},
   "outputs": [],
   "source": []
  },
  {
   "cell_type": "code",
   "execution_count": null,
   "metadata": {},
   "outputs": [],
   "source": []
  }
 ],
 "metadata": {
  "kernelspec": {
   "display_name": "Python 3",
   "language": "python",
   "name": "python3"
  },
  "language_info": {
   "codemirror_mode": {
    "name": "ipython",
    "version": 3
   },
   "file_extension": ".py",
   "mimetype": "text/x-python",
   "name": "python",
   "nbconvert_exporter": "python",
   "pygments_lexer": "ipython3",
   "version": "3.7.6"
  }
 },
 "nbformat": 4,
 "nbformat_minor": 4
}
